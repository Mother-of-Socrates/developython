{
 "cells": [
  {
   "cell_type": "markdown",
   "metadata": {
    "slideshow": {
     "slide_type": "slide"
    }
   },
   "source": [
    "![NASA](http://www.nasa.gov/sites/all/themes/custom/nasatwo/images/nasa-logo.svg)\n",
    "![DEVELOP](../../DEVELOP_logo.png)\n",
    "\n",
    "---\n",
    "\n",
    "# GDAL\n",
    "\n",
    "### Goddard Space Flight Center\n",
    "\n",
    "#### March 13, 2017\n",
    "\n",
    "---\n",
    "\n",
    "---"
   ]
  },
  {
   "cell_type": "markdown",
   "metadata": {
    "slideshow": {
     "slide_type": "subslide"
    }
   },
   "source": [
    "# What is GDAL?\n",
    "\n",
    "---\n",
    "\n",
    "* __Geospatial Data Abstraction Library__ - A programmatic way to do geoprocessing, providing similar capabilities to those available in ArcGIS\n",
    "* Useful for building automated systems, performing repetitive analysis, etc.\n",
    "* Developed by Frank Warmerdam, Sean Gilles, et al.\n",
    "* Both ArcGIS and QGIS use GDAL \"under the hood\"\n",
    "* When people say GDAL, they really mean the GDAL sub-library of the OSGeo (Open Source Geospatial Foundation) package. OSGeo has two sub-libraries:\n",
    "    * gdal - reading, processing, writing raster data\n",
    "    * ogr - reading, processing, writing vector data\n",
    "    * This lecture will only cover gdal, but note that you will need ogr to do anything significant with vector data\n",
    "* GDAL has been built to work with several different languages, including Python, R, C, and C++, but some of its most useful capabilities exist as standalone command line tools - essentially, these are their own little programs that can only be started through the command line\n",
    "    * We will look at both the GDAL Python functions and some of the most useful command line tools\n",
    "* [OSGeo site](http://osgeo.org)\n",
    "* [GDAL Python reference](http://gdal.org/python/)\n",
    "* [GDAL Python tips](https://trac.osgeo.org/gdal/wiki/PythonGotchas)"
   ]
  },
  {
   "cell_type": "markdown",
   "metadata": {
    "slideshow": {
     "slide_type": "subslide"
    }
   },
   "source": [
    "# GDAL vs. ArcPy - Pros and Cons\n",
    "\n",
    "---\n",
    "\n",
    "* GDAL is faster and more accurate\n",
    "* GDAL typically provides more flexibility and control\n",
    "* Some things can be done in GDAL that simply aren't possible (to my knowledge) in ArcGIS, such as reprojecting between certain coordinate systems\n",
    "* GDAL is free and open source\n",
    "* However, GDAL is significantly less user-friendly, because:\n",
    "    * There is no GUI version of the software, like ArcMap for ArcGIS\n",
    "    * The documentation is primarily written for programmers, and is generally light on explanation\n",
    "* To summarize, you can expect a steep learning curve with GDAL, but you will ultimately be able to do some cool stuff"
   ]
  },
  {
   "cell_type": "markdown",
   "metadata": {
    "slideshow": {
     "slide_type": "subslide"
    }
   },
   "source": [
    "# Example Project: More fun with MODIS\n",
    "\n",
    "---\n",
    "\n",
    "To explore GDAL and allow comparisons between GDAL and ArcPy, we will examine some of the same steps we took in our project last week, namely:\n",
    "* Extracting a single subdataset from a MODIS HDF file\n",
    "* Opening this data with Python and doing some math\n",
    "* Writing the modified data back to disk\n",
    "\n",
    "We will also perform a new step, which is not possible with ArcGIS: reprojecting the data from its native sinusoidal coordinate system to WGS 1984.\n",
    "\n",
    "__Important:__ Before beginning this lecture, you should have followed the GDAL installation instructions, available from the root directory of the DEVELOP Python GitHub."
   ]
  },
  {
   "cell_type": "markdown",
   "metadata": {},
   "source": [
    "### Download data\n",
    "\n",
    "---\n",
    "\n",
    "Download this MODIS image:  \n",
    "ftp://ladsweb.nascom.nasa.gov/allData/6/MOD11A2/2016/201/MOD11A2.A2016201.h11v05.006.2016242234243.hdf \n",
    "\n",
    "Copy it to the directory where you want to store your data. You may already have this image from last week's ArcPy lecture.\n",
    "\n",
    "### Get metadata\n",
    "\n",
    "---\n",
    "\n",
    "We want to extract a subdataset from this HDF file, but suppose we don't know what that subdataset is called? Navigate to your working directory, and type the following in the command line:\n",
    "\n",
    "> gdalinfo MOD11A2.A2016201.h11v05.006.2016242234243.hdf\n",
    "\n",
    "```> gdalinfo MOD11A2.A2016201.h11v05.006.2016242234243.hdf```\n",
    "\n",
    "This is a lot of information, but it should look familiar from the HDF/netCDF lecture. If you look closely, you will seen the names and descriptions of each subdataset. For example, the full name of the daytime LST subdataset is ```HDF4_EOS:EOS_GRID:\"MOD11A2.A2016201.h11v05.006.2016242234243.hdf\":MODIS_Grid_8Day_1km_LST:LST_Day_1km```\n",
    "\n",
    "### Extract subdataset\n",
    "\n",
    "---\n",
    "\n",
    "To extract the daytime LST subdataset, we will use one of the most useful GDAL command line tools: ```gdal_translate```. This tool is most commonly used for converting data from one file format to another. If you don't have experience running command line tools, the general format is:\n",
    "* Name of tool first\n",
    "* Optional parameters specified as ```-OptParam ArgumentForOptParam```\n",
    "* Required arguments\n",
    "\n",
    "In the case of ```gdal_translate```, there are two required arguments: the names of the input and output files. There are also numerous optional arguments that can be used to pack in additional functionality, such as altering the output bit depth and resampling the data. To extract the subdataset, go to your command line and type:\n",
    "\n",
    "```> gdal_translate HDF4_EOS:EOS_GRID:\"MOD11A2.A2016201.h11v05.006.2016242234243.hdf\":MODIS_Grid_8Day_1km_LST:LST_Day_1km MOD11A2.A2016201.h11v05.006.2016242234243_dayLST.tif```\n",
    "\n",
    "In this case, we are not using any optional arguments, merely providing the name of the subdataset we care about and an output file name. Now, even with copy/pasting, tab-filling, etc., it would be tedious to do this for numerous images. Let's take a look at how we might call this command from Python, using the ```subprocess``` module."
   ]
  },
  {
   "cell_type": "code",
   "execution_count": null,
   "metadata": {
    "collapsed": false
   },
   "outputs": [],
   "source": [
    "import subprocess\n",
    "import os\n",
    "\n",
    "#Change system to working directory\n",
    "workdir = \"C:\\\\Users\\\\abhubba1\\\\Documents\\\\Python Scripts\\\\DEVELOP_class\"\n",
    "os.chdir(workdir)\n",
    "\n",
    "MODIS_file = \"MOD11A2.A2016201.h11v05.006.2016242234243.hdf\"\n",
    "\n",
    "#Send gdal_translate command to system shell, capture result, and print it\n",
    "dayLST_fname = MODIS_file.rstrip('.hdf')+'_GDAL_dayLST.tif'\n",
    "trans_day_cmd = ['gdal_translate', 'HDF4_EOS:EOS_GRID:\"'+MODIS_file+\\\n",
    "                 '\":MODIS_Grid_8Day_1km_LST:LST_Day_1km', dayLST_fname]\n",
    "p_trans_day = subprocess.Popen(trans_day_cmd, stdout=subprocess.PIPE, \n",
    "                               stderr=subprocess.PIPE)\n",
    "print(p_trans_day.communicate())"
   ]
  },
  {
   "cell_type": "markdown",
   "metadata": {},
   "source": [
    "The ```subprocess.Popen``` takes a list of string arguments that comprise your command. Every separate element of a command should be its own element in this list. Note that this includes the name of an optional parameter and the argument for that parameter.\n",
    "\n",
    "Optionally, ```subprocess.Popen``` also allows us to capture the ```stdout``` and ```stderr``` streams. These are the output and error streams for programs run in the command line, and contain output messages and errors, respectively. It is common to save these to a text file to view later, but in this case we are just printing them using the ```communicate()``` method.\n",
    "\n",
    "### Opening raster data in Python\n",
    "\n",
    "---\n",
    "\n",
    "We have just covered an example of using GDAL command line tools, and calling those tools from Python. As mentioned above, many of GDAL's most useful capabilities are command line tools such as this, but GDAL also has a Python-specific library that allows us to perform some operations entirely in Python, without sending any commands to the system. In some cases, this Python library duplicates the capabilities of the command line tools, and in that case, it is generally better to use the command line tool, as they tend to be better supported. However, the Python library allows us to do some uniquely cool things, such as opening a raster as a NumPy array."
   ]
  },
  {
   "cell_type": "code",
   "execution_count": null,
   "metadata": {
    "collapsed": true
   },
   "outputs": [],
   "source": [
    "import os\n",
    "\n",
    "from osgeo import gdal\n",
    "import numpy as np\n",
    "\n",
    "gdal.UseExceptions()\n",
    "\n",
    "#Change system to working directory\n",
    "workdir = \"C:\\\\Users\\\\abhubba1\\\\Documents\\\\Python Scripts\\\\DEVELOP_class\"\n",
    "os.chdir(workdir)\n",
    "\n",
    "MODIS_file = \"MOD11A2.A2016201.h11v05.006.2016242234243.hdf\"\n",
    "dayLST_fname = MODIS_file.rstrip('.hdf')+'_GDAL_dayLST.tif'\n",
    "\n",
    "#Register driver for this file type\n",
    "driver = gdal.GetDriverByName(\"GTiff\")\n",
    "driver.Register()\n",
    "#Open raster as GDAL dataset\n",
    "dayLST_dataset = gdal.Open(dayLST_fname)\n",
    "#Get geotransform and projection from GDAL dataset. These contain \n",
    "#the geospatial information of the data, and we will need them \n",
    "#later to write the array back to a raster file.\n",
    "geotrans = dayLST_dataset.GetGeoTransform()\n",
    "proj = dayLST_dataset.GetProjection()\n",
    "#Open the only band in the dataset. Note that band numbering \n",
    "#starts from 1 as far as GDAL is concerned.\n",
    "dayLST_band = dayLST_dataset.GetRasterBand(1)\n",
    "#Pull data from band into a NumPy array\n",
    "dayLST_array = dayLST_band.ReadAsArray()\n",
    "#Get the NoData value for this band\n",
    "fillval = dayLST_band.GetNoDataValue()\n",
    "#Create a new masked array, where all areas of NoData are masked \n",
    "#out\n",
    "dayLST_ma_array = np.ma.masked_equal(dayLST_array, fillval)\n",
    "#Empty band and dataset objects to avoid lock issues later. Be \n",
    "#sure to empty the band object first, as there can be problems \n",
    "#otherwise.\n",
    "dayLST_band = None\n",
    "dayLST_dataset = None"
   ]
  },
  {
   "cell_type": "markdown",
   "metadata": {},
   "source": [
    "There's a lot going on here, so let's unpack it:\n",
    "```Python\n",
    "#Register driver for this file type\n",
    "driver = gdal.GetDriverByName(\"GTiff\")\n",
    "driver.Register()\n",
    "```\n",
    "GDAL has a separate driver for each supported raster format, and it is necessary to register this driver so that GDAL knows how to open a given file. It is also possible to register all drivers at once, but we will need our driver later to write the data to disk, so we want to use ```GetDriverByName```.\n",
    "```Python\n",
    "#Open raster as GDAL dataset\n",
    "dayLST_dataset = gdal.Open(dayLST_fname)\n",
    "#Get geotransform and projection from GDAL dataset. These contain \n",
    "#the geospatial information of the data, and we will need them \n",
    "#later to write the array back to a raster file.\n",
    "geotrans = dayLST_dataset.GetGeoTransform()\n",
    "proj = dayLST_dataset.GetProjection()\n",
    "```\n",
    "This first line opens the raster as a GDAL dataset object, which you can think of as the umbrella which encompasses all aspects of a raster, including both metadata and data. After that, we need to retrieve two pieces of metadata, the geotransform and the projection. Opening raster data in a NumPy array is powerful, but NumPy can't store the geospatial information, so we need to keep track of that ourselves.\n",
    "```Python\n",
    "#Open the only band in the dataset. Note that band numbering \n",
    "#starts from 1 as far as GDAL is concerned.\n",
    "dayLST_band = dayLST_dataset.GetRasterBand(1)\n",
    "#Pull data from band into a NumPy array\n",
    "dayLST_array = dayLST_band.ReadAsArray()\n",
    "```\n",
    "The dataset object contains all of the bands in the dataset, which in this case is only one band. We are retrieving that band and using ```ReadAsArray``` to load it into a NumPy array.\n",
    "```Python\n",
    "#Get the NoData value for this band\n",
    "fillval = dayLST_band.GetNoDataValue()\n",
    "#Create a new masked array, where all areas of NoData are masked \n",
    "#out\n",
    "dayLST_ma_array = np.ma.masked_equal(dayLST_array, fillval)\n",
    "```\n",
    "Another important piece of metadata is the NoData value. As with the geotransform and projection, we need to keep track of this for writing the data later. However, we also need it now, because we are going to create a NumPy masked array.\n",
    "\n",
    "A masked array is the same as a normal NumPy array, except it contains a second Boolean array that is used for masking. Any cell that is ```True``` in this Boolean array will be masked in the data, and these masked cells will not be included in any NumPy operations. In this case, we are using ```masked_equal``` to create an array that is masked everywhere the NoData value is present. Now we can do math with this array and not worry about NoData values throwing things off.\n",
    "```Python\n",
    "#Empty band and dataset objects to avoid lock issues later. Be \n",
    "#sure to empty the band object first, as there can be problems \n",
    "#otherwise.\n",
    "dayLST_band = None\n",
    "dayLST_dataset = None\n",
    "```\n",
    "As was the case when working with ArcPy, leaving the GDAL objects lying around can lead to issues later, as these objects point to the files on disk.\n",
    "\n",
    "### Raster math\n",
    "\n",
    "---\n",
    "\n",
    "Or, more properly, NumPy math. While opening this data as a NumPy array was, let's be honest, a pain in the butt, now we have a NumPy array of our data, and we can do just about anything we want with it. NumPy has an expansive library of mathematical operations - it is called Numerical Python for a reason. For even more possibilities, check out the SciPy library, which is built on top of NumPy.\n",
    "\n",
    "In the interests of time and continuity with the ArcPy lecture, we will simply rescale the data. As with ArcPy objects, NumPy will automatically apply simple mathematical operations elementwise to the array."
   ]
  },
  {
   "cell_type": "code",
   "execution_count": null,
   "metadata": {
    "collapsed": false
   },
   "outputs": [],
   "source": [
    "scale = 0.02\n",
    "dayLST_array_sc = dayLST_ma_array * scale"
   ]
  },
  {
   "cell_type": "markdown",
   "metadata": {},
   "source": [
    "### Writing the array back to a raster\n",
    "\n",
    "---\n",
    "\n",
    "After we have manipulated the data to our heart's content, we need to write it back to a raster format. In many ways, this is just the reverse of what we did above to read it into an array."
   ]
  },
  {
   "cell_type": "code",
   "execution_count": null,
   "metadata": {
    "collapsed": false
   },
   "outputs": [],
   "source": [
    "gdal.UseExceptions()\n",
    "\n",
    "#Create new dataset to contain output\n",
    "scale_fname = MODIS_file.rstrip('.hdf')+'_GDAL_scale.tif'\n",
    "out_dataset = driver.Create(scale_fname, dayLST_array_sc.shape[1], \n",
    "                            dayLST_array_sc.shape[0], eType = gdal.GDT_UInt16)\n",
    "#Set geotransform and projection of output dataset\n",
    "out_dataset.SetGeoTransform(geotrans)\n",
    "out_dataset.SetProjection(proj)\n",
    "#Create a band for our data\n",
    "out_band = out_dataset.GetRasterBand(1)\n",
    "#Write our data to the band\n",
    "out_band.WriteArray(dayLST_array_sc)\n",
    "#Tell the raster which value signifies NoData\n",
    "out_band.SetNoDataValue(fillval)\n",
    "#Write the data from memory to disk. Not strictly necessary, as \n",
    "#this should occur anyway at some point, but it is good practice.\n",
    "out_band.FlushCache()\n",
    "#Clear band and dataset to avoid lock problems\n",
    "out_band = None\n",
    "out_dataset = None"
   ]
  },
  {
   "cell_type": "markdown",
   "metadata": {},
   "source": [
    "Let's unpack this one as well:\n",
    "```Python\n",
    "#Create new dataset to contain output\n",
    "scale_fname = MODIS_file.rstrip('.hdf')+'_GDAL_scale.tif'\n",
    "out_dataset = driver.Create(scale_fname, dayLST_array_sc.shape[1], \n",
    "                            dayLST_array_sc.shape[0], eType = gdal.GDT_UInt16)\n",
    "```\n",
    "Here we use our driver object to create a new dataset with the file name, dimensions, and data type of our choosing. Note the data type has to be specified as a ```GDALDataType``` object, the reference for which can be found [here](http://www.gdal.org/gdal_8h.html#a22e22ce0a55036a96f652765793fb7a4).\n",
    "```Python\n",
    "#Set geotransform and projection of output dataset\n",
    "out_dataset.SetGeoTransform(geotrans)\n",
    "out_dataset.SetProjection(proj)\n",
    "```\n",
    "As mentioned above, the NumPy array isn't storing our geospatial metadata, so here we give that information to our new dataset object.\n",
    "```Python\n",
    "#Create a band for our data\n",
    "out_band = out_dataset.GetRasterBand(1)\n",
    "#Write our data to the band\n",
    "out_band.WriteArray(dayLST_array_sc)\n",
    "```\n",
    "These lines create a band for the output data, and assign the data to that band. We could create more bands in the same way if we were working with multiband rasters.\n",
    "```Python\n",
    "#Tell the raster which value signifies NoData\n",
    "out_band.SetNoDataValue(fillval)\n",
    "```\n",
    "A NoData value is just a number unless the raster knows which number signifies NoData. This line provides that information.\n",
    "```Python\n",
    "#Write the data from memory to disk. Not strictly necessary, as \n",
    "#this should occur anyway at some point, but it is good practice.\n",
    "out_band.FlushCache()\n",
    "```\n",
    "Even though we \"wrote\" the array above, this is line that actually writes the data to disk. This should happen anyway when we \"close\" the dataset below, but it is good practice.\n",
    "```Python\n",
    "#Clear band and dataset to avoid lock problems\n",
    "out_band = None\n",
    "out_dataset = None\n",
    "```\n",
    "Clearing out these objects is helpful to avoid lock problems, as mentioned above. You can think of this as \"closing\" the file, from GDAL's perspective.\n",
    "\n",
    "### Reprojecting raster data\n",
    "\n",
    "---\n",
    "\n",
    "Up until this point, we have been duplicating the capabilities of ArcGIS in GDAL. This can be handy because GDAL generally performs things more quickly, more accurately, and provides more control over the process. It is also free, which is nice if you don't have an ArcGIS license. However, you have probably noticed that doing these things in GDAL is, on the surface at least, more complex than doing them with ArcPy. We haven't covered anything where you strictly _need_ GDAL. So, in this last section, we will go over something that strictly requires GDAL: reprojecting data from MODIS sinusoidal to WGS 1984.\n",
    "\n",
    "To do this, we will be using the extremely powerful ```gdalwarp``` command line tool. In addition to reprojecting, this tool can be used for clipping, masking, resampling, etc., but it is designed around reprojection. To do this from the command line, type:\n",
    "```\n",
    "> gdalwarp -t_srs \"EPSG:4326\" in_file out_file\n",
    "```\n",
    "Replace ```in_file``` with the name of our MODIS raster, and replace ```out_file``` with an output file name of your choosing. To call this tool from Python, you would use ```subprocess```, as above:"
   ]
  },
  {
   "cell_type": "code",
   "execution_count": null,
   "metadata": {
    "collapsed": false
   },
   "outputs": [],
   "source": [
    "import subprocess\n",
    "import os\n",
    "\n",
    "#Change system to working directory\n",
    "workdir = \"C:\\\\Users\\\\abhubba1\\\\Documents\\\\Python Scripts\\\\DEVELOP_class\"\n",
    "os.chdir(workdir)\n",
    "\n",
    "MODIS_file = \"MOD11A2.A2016201.h11v05.006.2016242234243.hdf\"\n",
    "scale_fname = MODIS_file.rstrip('.hdf')+'_GDAL_scale.tif'\n",
    "\n",
    "#Send gdalwarp command to system shell, capture result, and print it\n",
    "reproj_fname = MODIS_file.rstrip('.hdf')+'_GDAL_reproj.tif'\n",
    "reproj_cmd = ['gdalwarp', '-t_srs', 'EPSG:4326', scale_fname, reproj_fname]\n",
    "p_reproj = subprocess.Popen(reproj_cmd, stdout=subprocess.PIPE, \n",
    "                            stderr=subprocess.PIPE)\n",
    "print(p_reproj.communicate())"
   ]
  }
 ],
 "metadata": {
  "anaconda-cloud": {},
  "kernelspec": {
   "display_name": "Python 2",
   "language": "python",
   "name": "python2"
  },
  "language_info": {
   "codemirror_mode": {
    "name": "ipython",
    "version": 2
   },
   "file_extension": ".py",
   "mimetype": "text/x-python",
   "name": "python",
   "nbconvert_exporter": "python",
   "pygments_lexer": "ipython2",
   "version": "2.7.13"
  }
 },
 "nbformat": 4,
 "nbformat_minor": 0
}
