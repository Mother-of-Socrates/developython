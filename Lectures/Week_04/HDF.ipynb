{
 "cells": [
  {
   "cell_type": "markdown",
   "metadata": {},
   "source": [
    "![NASA](http://www.nasa.gov/sites/all/themes/custom/nasatwo/images/nasa-logo.svg)\n",
    "![DEVELOP](../../DEVELOP_logo.png)\n",
    "\n",
    "---\n",
    "\n",
    "# Hierarchical Data Format\n",
    "\n",
    "### Goddard Space Flight Center\n",
    "\n",
    "#### October 27, 2016"
   ]
  },
  {
   "cell_type": "markdown",
   "metadata": {
    "collapsed": true
   },
   "source": [
    "# Purpose\n",
    "\n",
    "---\n",
    "\n",
    "Usually, in programming you have either ASCII or binary data. But, what if you want something structured? For Earth Science, we turn to Hierarchical Data Format files to store our data."
   ]
  },
  {
   "cell_type": "markdown",
   "metadata": {},
   "source": [
    "# Two Roads\n",
    "\n",
    "---\n",
    "\n",
    "* HDF: A structured file of groups of fields of variables of dimensions.\n",
    "* netCDF: A simpler HDF file with only one group __(netCDF3 and older do not support groups)__ of fields of variables of dimensions."
   ]
  },
  {
   "cell_type": "markdown",
   "metadata": {},
   "source": [
    "# Creating the files\n",
    "\n",
    "---"
   ]
  },
  {
   "cell_type": "code",
   "execution_count": null,
   "metadata": {
    "collapsed": true
   },
   "outputs": [],
   "source": [
    "import netCDF4 as nc\n",
    "\n",
    "f = nc.Dataset('test.nc', 'w')\n",
    "f.close()"
   ]
  },
  {
   "cell_type": "code",
   "execution_count": null,
   "metadata": {
    "collapsed": true
   },
   "outputs": [],
   "source": [
    "import h5py as h5\n",
    "\n",
    "f = h5.File('test.h5', 'w')\n",
    "f.close()"
   ]
  },
  {
   "cell_type": "markdown",
   "metadata": {},
   "source": [
    "# Looking inside\n",
    "\n",
    "---\n",
    "\n",
    "```bash\n",
    "ncdump -h filename.nc\n",
    "\n",
    "ncdump -h filename.h5\n",
    "```"
   ]
  },
  {
   "cell_type": "markdown",
   "metadata": {},
   "source": [
    "# Structure\n",
    "\n",
    "---\n",
    "\n",
    "* Groups\n",
    "* Dimensions\n",
    "* Variables\n",
    "* Attributes"
   ]
  },
  {
   "cell_type": "markdown",
   "metadata": {},
   "source": [
    "# Groups\n",
    "\n",
    "---"
   ]
  },
  {
   "cell_type": "code",
   "execution_count": null,
   "metadata": {
    "collapsed": true
   },
   "outputs": [],
   "source": [
    "# netCDF\n",
    "rootgrp = nc.Dataset('test.nc', 'a')\n",
    "fcstgrp = rootgrp.createGroup('forecasts')\n",
    "anlgrp = rootgrp.createGroup('analyses')\n",
    "\n",
    "# we can also create them like folders\n",
    "fcst1 = rootgrp.createGroup('/forecasts/model1')\n",
    "fcst2 = rootgrp.createGroup('/forecasts/model2')\n",
    "\n",
    "rootgrp.close()"
   ]
  },
  {
   "cell_type": "code",
   "execution_count": null,
   "metadata": {
    "collapsed": false
   },
   "outputs": [],
   "source": [
    "# HDF\n",
    "rootgrp = h5.File('test.h5', 'a')\n",
    "fcstgrp = rootgrp.create_group('forecasts')\n",
    "anlgrp = rootgrp.create_group('analyses')\n",
    "\n",
    "# can again also create like folders\n",
    "fcst1 = rootgrp.create_group('/forecasts/model1')\n",
    "fcst2 = rootgrp.create_group('/forecasts/model2')\n",
    "\n",
    "rootgrp.close()"
   ]
  },
  {
   "cell_type": "code",
   "execution_count": null,
   "metadata": {
    "collapsed": false
   },
   "outputs": [],
   "source": [
    "# let's look inside these:\n",
    "f = nc.Dataset('test.nc', 'r')\n",
    "print(f)\n",
    "#print('\\n')\n",
    "#print(f.groups)\n",
    "f.close()\n",
    "\n",
    "print('\\n')\n",
    "\n",
    "f = h5.File('test.h5', 'r')\n",
    "print(f)\n",
    "#print(f.keys())\n",
    "f.close()"
   ]
  },
  {
   "cell_type": "markdown",
   "metadata": {},
   "source": [
    "# Dimensions\n",
    "\n",
    "---"
   ]
  },
  {
   "cell_type": "code",
   "execution_count": null,
   "metadata": {
    "collapsed": false
   },
   "outputs": [],
   "source": [
    "# netCDF (netCDF3 can only have 1 unlimmited dimension)\n",
    "rootgrp = nc.Dataset('test.nc', 'a')\n",
    "level = rootgrp.createDimension('level', None) # or 0\n",
    "time = rootgrp.createDimension('time', None) # or 0\n",
    "lat = rootgrp.createDimension('lat', 73)\n",
    "lon = rootgrp.createDimension('lon', 144)\n",
    "rootgrp.close()"
   ]
  },
  {
   "cell_type": "code",
   "execution_count": null,
   "metadata": {
    "collapsed": true
   },
   "outputs": [],
   "source": [
    "# HDF doesn't really have dimensions"
   ]
  },
  {
   "cell_type": "code",
   "execution_count": null,
   "metadata": {
    "collapsed": false
   },
   "outputs": [],
   "source": [
    "# let's look inside these:\n",
    "f = nc.Dataset('test.nc', 'r')\n",
    "print(f.dimensions)\n",
    "f.close()"
   ]
  },
  {
   "cell_type": "markdown",
   "metadata": {},
   "source": [
    "# Variables\n",
    "\n",
    "---"
   ]
  },
  {
   "cell_type": "code",
   "execution_count": null,
   "metadata": {
    "collapsed": true
   },
   "outputs": [],
   "source": [
    "import numpy as np\n",
    "from numpy.random import uniform"
   ]
  },
  {
   "cell_type": "code",
   "execution_count": null,
   "metadata": {
    "collapsed": false
   },
   "outputs": [],
   "source": [
    "# netCDF\n",
    "rootgrp = nc.Dataset('test.nc', 'a')\n",
    "times = rootgrp.createVariable('time', 'f8', ('time',))\n",
    "levels = rootgrp.createVariable('level', 'i4', ('level',))\n",
    "latitudes = rootgrp.createVariable('latitude', 'f4', ('lat',))\n",
    "longitudes = rootgrp.createVariable('longitude', 'f4', ('lon',))\n",
    "\n",
    "temp = rootgrp.createVariable('temp', 'f4', ('time','level','lat','lon',))\n",
    "\n",
    "# write some sample data\n",
    "latitudes[:] = np.arange(-90, 91, 2.5)\n",
    "longitudes[:] = np.arange(-180, 180, 2.5)\n",
    "levels[:] = [1000., 850., 700., 500., 300., 250., 200., 150., 100., 50.]\n",
    "temp[0:5, 0:10, :, :] = uniform(size=(5,10,len(latitudes), len(longitudes)))\n",
    "rootgrp.close()"
   ]
  },
  {
   "cell_type": "code",
   "execution_count": null,
   "metadata": {
    "collapsed": false
   },
   "outputs": [],
   "source": [
    "# HDF (has datasets)\n",
    "rootgrp = h5.File('test.h5', 'a')\n",
    "# maxshape is only if you need unlimited dimensions\n",
    "temp = rootgrp.create_dataset('temp', (5,10, 73, 144,), maxshape=(None, None, 73, 144), dtype='f4')\n",
    "# here, you just assign data to temp\n",
    "temp[:] = uniform(size=(5, 10, 73, 144))\n",
    "rootgrp.close()"
   ]
  },
  {
   "cell_type": "code",
   "execution_count": null,
   "metadata": {
    "collapsed": false
   },
   "outputs": [],
   "source": [
    "# let's look inside these:\n",
    "rootgrp = nc.Dataset('test.nc', 'a')\n",
    "print(rootgrp.variables.keys())\n",
    "print(rootgrp.variables['temp'][0,0,[0,1,2,3],[0,1,2,3]])\n",
    "rootgrp.close()\n",
    "\n",
    "rootgrp = h5.File('test.h5', 'r')\n",
    "print(rootgrp['temp'])\n",
    "print(rootgrp['temp'][0, 0, 0:4, 0:4])\n",
    "rootgrp.close()"
   ]
  },
  {
   "cell_type": "markdown",
   "metadata": {},
   "source": [
    "# Attributes\n",
    "\n",
    "---\n",
    "\n",
    "This is just the metadata for the variables/groups."
   ]
  }
 ],
 "metadata": {
  "anaconda-cloud": {},
  "kernelspec": {
   "display_name": "Python [conda root]",
   "language": "python",
   "name": "conda-root-py"
  },
  "language_info": {
   "codemirror_mode": {
    "name": "ipython",
    "version": 2
   },
   "file_extension": ".py",
   "mimetype": "text/x-python",
   "name": "python",
   "nbconvert_exporter": "python",
   "pygments_lexer": "ipython2",
   "version": "2.7.12"
  }
 },
 "nbformat": 4,
 "nbformat_minor": 1
}
