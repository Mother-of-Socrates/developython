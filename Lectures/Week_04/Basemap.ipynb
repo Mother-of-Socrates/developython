{
 "cells": [
  {
   "cell_type": "markdown",
   "metadata": {},
   "source": [
    "![NASA](http://www.nasa.gov/sites/all/themes/custom/nasatwo/images/nasa-logo.svg)\n",
    "![DEVELOP](../../DEVELOP_logo.png)\n",
    "\n",
    "---\n",
    "\n",
    "# Basemap\n",
    "\n",
    "### Goddard Space Flight Center\n",
    "\n",
    "#### October 27, 2016"
   ]
  },
  {
   "cell_type": "markdown",
   "metadata": {
    "collapsed": true
   },
   "source": [
    "# Plotting maps\n",
    "\n",
    "---\n",
    "\n",
    "* [website](http://matplotlib.org/basemap/)\n",
    "* [gallery](http://matplotlib.org/basemap/users/examples.html)"
   ]
  },
  {
   "cell_type": "markdown",
   "metadata": {},
   "source": [
    "# Plotting GEOS-5 data\n",
    "\n",
    "---\n",
    "\n",
    "* [File at ftp://gmao_ops@ftp.nccs.nasa.gov/fp/forecast/Y2016/M10/D27/H00/GEOS.fp.fcst.inst3_2d_met_Nx.20161027_00+20161027_0000.V01.nc4](ftp://gmao_ops@ftp.nccs.nasa.gov/fp/forecast/Y2016/M10/D27/H00/GEOS.fp.fcst.inst3_2d_met_Nx.20161027_00+20161027_0000.V01.nc4)"
   ]
  },
  {
   "cell_type": "code",
   "execution_count": null,
   "metadata": {
    "collapsed": false
   },
   "outputs": [],
   "source": [
    "# after getting data\n",
    "import netCDF4 as nc\n",
    "\n",
    "f = nc.Dataset('GEOS.fp.fcst.inst3_2d_met_Nx.20161027_00+20161027_0000.V01.nc4', 'r')\n",
    "print(f.variables['CLDHGH'])\n",
    "print(f.variables['CLDHGH'].shape)\n",
    "f.close()"
   ]
  },
  {
   "cell_type": "code",
   "execution_count": null,
   "metadata": {
    "collapsed": false
   },
   "outputs": [],
   "source": [
    "# let's plot!\n",
    "%matplotlib inline\n",
    "from mpl_toolkits.basemap import Basemap\n",
    "import numpy as np\n",
    "import matplotlib.pyplot as plt\n",
    "\n",
    "f = nc.Dataset('GEOS.fp.fcst.inst3_2d_met_Nx.20161027_00+20161027_0000.V01.nc4', 'r')\n",
    "data = f.variables['CLDHGH']\n",
    "lon = f.variables['lon']\n",
    "lat = f.variables['lat']\n",
    "# create 2d grid\n",
    "lon, lat = np.meshgrid(lon, lat)\n",
    "fig = plt.figure()\n",
    "\n",
    "m = Basemap(projection='kav7',lon_0=0,resolution=None)\n",
    "m.drawmapboundary(fill_color='0.3')\n",
    "im1 = m.pcolormesh(lon,lat,data[0],shading='flat',cmap=plt.cm.gist_gray,latlon=True)\n",
    "m.drawparallels(np.arange(-90.,99.,30.))\n",
    "m.drawmeridians(np.arange(-180.,180.,60.))"
   ]
  },
  {
   "cell_type": "code",
   "execution_count": null,
   "metadata": {
    "collapsed": false
   },
   "outputs": [],
   "source": [
    "m = Basemap(projection='mill',lon_0=0)\n",
    "m.drawmapboundary(fill_color='aqua')\n",
    "im1 = m.pcolormesh(lon,lat,data[0],shading='flat',cmap=plt.cm.gray,latlon=True)\n",
    "m.fillcontinents()\n",
    "m.drawparallels(np.arange(-90.,99.,30.))\n",
    "m.drawmeridians(np.arange(-180.,180.,60.))"
   ]
  },
  {
   "cell_type": "code",
   "execution_count": null,
   "metadata": {
    "collapsed": false
   },
   "outputs": [],
   "source": [
    "# let's make this pretty\n",
    "f.variables['CLDHGH'].missing_value\n",
    "data = np.ma.masked_where(data > f.variables['CLDHGH'].missing_value, data)\n",
    "data"
   ]
  },
  {
   "cell_type": "code",
   "execution_count": null,
   "metadata": {
    "collapsed": false
   },
   "outputs": [],
   "source": [
    "m = Basemap(width=12000000,height=9000000,projection='lcc',\n",
    "            resolution=None,lat_1=45.,lat_2=55,lat_0=50,lon_0=-107.)\n",
    "m.bluemarble()"
   ]
  }
 ],
 "metadata": {
  "anaconda-cloud": {},
  "kernelspec": {
   "display_name": "Python [conda root]",
   "language": "python",
   "name": "conda-root-py"
  },
  "language_info": {
   "codemirror_mode": {
    "name": "ipython",
    "version": 2
   },
   "file_extension": ".py",
   "mimetype": "text/x-python",
   "name": "python",
   "nbconvert_exporter": "python",
   "pygments_lexer": "ipython2",
   "version": "2.7.12"
  }
 },
 "nbformat": 4,
 "nbformat_minor": 1
}
