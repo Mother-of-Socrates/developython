{
 "cells": [
  {
   "cell_type": "markdown",
   "metadata": {},
   "source": [
    "![NASA](http://www.nasa.gov/sites/all/themes/custom/nasatwo/images/nasa-logo.svg)\n",
    "![DEVELOP](../../DEVELOP_logo.png)\n",
    "\n",
    "---\n",
    "\n",
    "# matplotlib and HDF\n",
    "\n",
    "### Goddard Space Flight Center\n",
    "\n",
    "#### March 1, 2017\n",
    "\n",
    "---\n",
    "\n",
    "---"
   ]
  },
  {
   "cell_type": "markdown",
   "metadata": {},
   "source": [
    "# matplotlib\n",
    "\n",
    "---\n",
    "\n",
    "* [matplotlib Website](http://matplotlib.org)\n",
    "* Visualization package of Python (2D/3d) meant to be a replacement for Matlab\n",
    "* Version 2.0 is most recent (lots of fixes!)\n",
    "* Earth Science visualizations - typically mixture of matplotlib and other packages for projections ([Basemap](http://matplotlib.org/basemap/), [cartopy](http://scitools.org.uk/cartopy/))\n",
    "* [PlotLy](http://plot.ly) - javascript alternative\n",
    "* [How to make beautiful data visualizations in Python with matplotlib](http://www.randalolson.com/2014/06/28/how-to-make-beautiful-data-visualizations-in-python-with-matplotlib/)"
   ]
  },
  {
   "cell_type": "markdown",
   "metadata": {},
   "source": [
    "### Basic Example"
   ]
  },
  {
   "cell_type": "code",
   "execution_count": null,
   "metadata": {
    "collapsed": false
   },
   "outputs": [],
   "source": [
    "import matplotlib.pyplot as plt\n",
    "%matplotlib inline\n",
    "\n",
    "#plt.plot(x, y, 'red-circle')\n",
    "plt.plot(2.5, 4.1, 'ro')"
   ]
  },
  {
   "cell_type": "markdown",
   "metadata": {},
   "source": [
    "_Note:_ The statement __`%matplotlib inline`__ is only for the notebook and tells the interpreter to display the plot within the notebook.\n",
    "\n",
    "If you were to put this in a .py script, you will want either of the following:\n",
    "\n",
    "* __`plt.show()`__ if you are running a script and want to view the plot interactively.\n",
    "* __`plt.savefig('filename.png')`__ if you want to save the image to a file."
   ]
  },
  {
   "cell_type": "markdown",
   "metadata": {},
   "source": [
    "# Drawing a Line"
   ]
  },
  {
   "cell_type": "code",
   "execution_count": null,
   "metadata": {
    "collapsed": false
   },
   "outputs": [],
   "source": [
    "x = [0,1,2,3,4,5]\n",
    "y = [1,2,3,4,5,6]\n",
    "plt.plot(x, y)"
   ]
  },
  {
   "cell_type": "markdown",
   "metadata": {},
   "source": [
    "### Adding Features (Legend)"
   ]
  },
  {
   "cell_type": "code",
   "execution_count": null,
   "metadata": {
    "collapsed": false
   },
   "outputs": [],
   "source": [
    "# plot with legend\n",
    "plt.plot(x, y, label='a line')\n",
    "plt.legend(loc=0)"
   ]
  },
  {
   "cell_type": "markdown",
   "metadata": {},
   "source": [
    "### Multiple Lines"
   ]
  },
  {
   "cell_type": "code",
   "execution_count": null,
   "metadata": {
    "collapsed": false
   },
   "outputs": [],
   "source": [
    "import numpy as np\n",
    "\n",
    "x = np.linspace(-np.pi, np.pi, 256, endpoint=True)\n",
    "cos, sin = np.cos(x), np.sin(x)\n",
    "\n",
    "plt.plot(x, cos, label='cosine')\n",
    "plt.plot(x, sin, label='sine')\n",
    "plt.legend()"
   ]
  },
  {
   "cell_type": "markdown",
   "metadata": {},
   "source": [
    "### Multiple Plots, Single Figure"
   ]
  },
  {
   "cell_type": "code",
   "execution_count": null,
   "metadata": {
    "collapsed": false
   },
   "outputs": [],
   "source": [
    "plt.figure(1)\n",
    "plt.subplot(211)\n",
    "plt.plot(x, cos, color='C0') # notice the color name\n",
    "\n",
    "plt.subplot(212)\n",
    "plt.plot(x, sin, color='C1')"
   ]
  },
  {
   "cell_type": "markdown",
   "metadata": {},
   "source": [
    "---\n",
    "\n",
    "---\n",
    "\n",
    "# NOTICE\n",
    "\n",
    "---\n",
    "\n",
    "__Run this line from your Anaconda Prompt (March 1, 2017)__\n",
    "```bash\n",
    "conda update hdf4\n",
    "```\n",
    "\n",
    "---\n",
    "\n",
    "---"
   ]
  },
  {
   "cell_type": "markdown",
   "metadata": {},
   "source": [
    "# Heirarchical Data Format (HDF)\n",
    "\n",
    "---\n",
    "\n",
    "Two types of HDF files:\n",
    "* [HDF5](http://www.hdfgroup.org): A structured file of groups of fields of variables of dimensions. ([h5py](http://www.h5py.org))\n",
    "* [netCDF](http://www.unidata.ucar.edu/software/netcdf/): A simpler HDF file with only one group (netCDF3 and older do not support groups) of fields of variables of dimensions. ([netCDF4](http://unidata.github.io/netcdf4-python/))"
   ]
  },
  {
   "cell_type": "markdown",
   "metadata": {},
   "source": [
    "### Creating Files"
   ]
  },
  {
   "cell_type": "code",
   "execution_count": 1,
   "metadata": {
    "collapsed": false
   },
   "outputs": [],
   "source": [
    "import netCDF4 as nc\n",
    "\n",
    "f = nc.Dataset('test.nc', 'w')\n",
    "f.close()"
   ]
  },
  {
   "cell_type": "code",
   "execution_count": 2,
   "metadata": {
    "collapsed": true
   },
   "outputs": [],
   "source": [
    "import h5py as h5\n",
    "\n",
    "f = h5.File('test.h5', 'w')\n",
    "f.close()"
   ]
  },
  {
   "cell_type": "markdown",
   "metadata": {},
   "source": [
    "### Looking inside\n",
    "\n",
    "---\n",
    "\n",
    "From Anaconda Prompt:\n",
    "\n",
    "```bash\n",
    "ncdump -h filename.nc\n",
    "\n",
    "ncdump -h filename.h5\n",
    "```"
   ]
  },
  {
   "cell_type": "markdown",
   "metadata": {},
   "source": [
    "### Structure\n",
    "\n",
    "---\n",
    "\n",
    "* Groups\n",
    "* Dimensions\n",
    "* Variables\n",
    "* Attributes"
   ]
  },
  {
   "cell_type": "markdown",
   "metadata": {},
   "source": [
    "### Groups"
   ]
  },
  {
   "cell_type": "code",
   "execution_count": 3,
   "metadata": {
    "collapsed": true
   },
   "outputs": [],
   "source": [
    "# netCDF\n",
    "rootgrp = nc.Dataset('test.nc', 'a')\n",
    "fcstgrp = rootgrp.createGroup('forecasts')\n",
    "anlgrp = rootgrp.createGroup('analyses')\n",
    "\n",
    "# we can also create them like folders\n",
    "fcst1 = rootgrp.createGroup('/forecasts/model1')\n",
    "fcst2 = rootgrp.createGroup('/forecasts/model2')\n",
    "\n",
    "rootgrp.close()"
   ]
  },
  {
   "cell_type": "code",
   "execution_count": 4,
   "metadata": {
    "collapsed": true
   },
   "outputs": [],
   "source": [
    "# HDF\n",
    "rootgrp = h5.File('test.h5', 'a')\n",
    "fcstgrp = rootgrp.create_group('forecasts')\n",
    "anlgrp = rootgrp.create_group('analyses')\n",
    "\n",
    "# can again also create like folders\n",
    "fcst1 = rootgrp.create_group('/forecasts/model1')\n",
    "fcst2 = rootgrp.create_group('/forecasts/model2')\n",
    "\n",
    "rootgrp.close()"
   ]
  },
  {
   "cell_type": "code",
   "execution_count": 5,
   "metadata": {
    "collapsed": false
   },
   "outputs": [
    {
     "name": "stdout",
     "output_type": "stream",
     "text": [
      "<type 'netCDF4._netCDF4.Dataset'>\n",
      "root group (NETCDF4 data model, file format HDF5):\n",
      "    dimensions(sizes): \n",
      "    variables(dimensions): \n",
      "    groups: forecasts, analyses\n",
      "\n",
      "\n",
      "\n",
      "<HDF5 file \"test.h5\" (mode r)>\n"
     ]
    }
   ],
   "source": [
    "# let's look inside these:\n",
    "f = nc.Dataset('test.nc', 'r')\n",
    "print(f)\n",
    "#print('\\n')\n",
    "#print(f.groups)\n",
    "f.close()\n",
    "\n",
    "print('\\n')\n",
    "\n",
    "f = h5.File('test.h5', 'r')\n",
    "print(f)\n",
    "#print(f.keys())\n",
    "f.close()"
   ]
  },
  {
   "cell_type": "markdown",
   "metadata": {},
   "source": [
    "### Dimensions"
   ]
  },
  {
   "cell_type": "code",
   "execution_count": 6,
   "metadata": {
    "collapsed": true
   },
   "outputs": [],
   "source": [
    "# netCDF (netCDF3 can only have 1 unlimmited dimension)\n",
    "rootgrp = nc.Dataset('test.nc', 'a')\n",
    "level = rootgrp.createDimension('level', None) # or 0\n",
    "time = rootgrp.createDimension('time', None) # or 0\n",
    "lat = rootgrp.createDimension('lat', 73)\n",
    "lon = rootgrp.createDimension('lon', 144)\n",
    "rootgrp.close()"
   ]
  },
  {
   "cell_type": "code",
   "execution_count": 7,
   "metadata": {
    "collapsed": true
   },
   "outputs": [],
   "source": [
    "# HDF doesn't really have dimensions"
   ]
  },
  {
   "cell_type": "code",
   "execution_count": 8,
   "metadata": {
    "collapsed": false
   },
   "outputs": [
    {
     "name": "stdout",
     "output_type": "stream",
     "text": [
      "OrderedDict([(u'level', <type 'netCDF4._netCDF4.Dimension'> (unlimited): name = 'level', size = 0\n",
      "), (u'time', <type 'netCDF4._netCDF4.Dimension'> (unlimited): name = 'time', size = 0\n",
      "), (u'lat', <type 'netCDF4._netCDF4.Dimension'>: name = 'lat', size = 73\n",
      "), (u'lon', <type 'netCDF4._netCDF4.Dimension'>: name = 'lon', size = 144\n",
      ")])\n"
     ]
    }
   ],
   "source": [
    "# let's look inside these:\n",
    "f = nc.Dataset('test.nc', 'r')\n",
    "print(f.dimensions)\n",
    "f.close()"
   ]
  },
  {
   "cell_type": "markdown",
   "metadata": {},
   "source": [
    "### Variables"
   ]
  },
  {
   "cell_type": "code",
   "execution_count": 10,
   "metadata": {
    "collapsed": true
   },
   "outputs": [],
   "source": [
    "import numpy as np\n",
    "from numpy.random import uniform"
   ]
  },
  {
   "cell_type": "code",
   "execution_count": 11,
   "metadata": {
    "collapsed": true
   },
   "outputs": [],
   "source": [
    "# netCDF\n",
    "rootgrp = nc.Dataset('test.nc', 'a')\n",
    "times = rootgrp.createVariable('time', 'f8', ('time',))\n",
    "levels = rootgrp.createVariable('level', 'i4', ('level',))\n",
    "latitudes = rootgrp.createVariable('latitude', 'f4', ('lat',))\n",
    "longitudes = rootgrp.createVariable('longitude', 'f4', ('lon',))\n",
    "\n",
    "temp = rootgrp.createVariable('temp', 'f4', ('time','level','lat','lon',))\n",
    "\n",
    "# write some sample data\n",
    "latitudes[:] = np.arange(-90, 91, 2.5)\n",
    "longitudes[:] = np.arange(-180, 180, 2.5)\n",
    "levels[:] = [1000., 850., 700., 500., 300., 250., 200., 150., 100., 50.]\n",
    "temp[0:5, 0:10, :, :] = uniform(size=(5,10,len(latitudes), len(longitudes)))\n",
    "rootgrp.close()"
   ]
  },
  {
   "cell_type": "code",
   "execution_count": 12,
   "metadata": {
    "collapsed": true
   },
   "outputs": [],
   "source": [
    "# HDF (has datasets)\n",
    "rootgrp = h5.File('test.h5', 'a')\n",
    "# maxshape is only if you need unlimited dimensions\n",
    "temp = rootgrp.create_dataset('temp', (5,10, 73, 144,), maxshape=(None, None, 73, 144), dtype='f4')\n",
    "# here, you just assign data to temp\n",
    "temp[:] = uniform(size=(5, 10, 73, 144))\n",
    "rootgrp.close()"
   ]
  },
  {
   "cell_type": "code",
   "execution_count": 13,
   "metadata": {
    "collapsed": false
   },
   "outputs": [
    {
     "name": "stdout",
     "output_type": "stream",
     "text": [
      "[u'time', u'level', u'latitude', u'longitude', u'temp']\n",
      "[[ 0.64189696  0.93760121  0.57146317  0.80668706]\n",
      " [ 0.61306697  0.62045872  0.08019656  0.50558686]\n",
      " [ 0.541444    0.43847674  0.64054775  0.87512076]\n",
      " [ 0.54317957  0.51097864  0.32800439  0.41129491]]\n",
      "<HDF5 dataset \"temp\": shape (5, 10, 73, 144), type \"<f4\">\n",
      "[[ 0.41212252  0.04802058  0.88053972  0.18834125]\n",
      " [ 0.06324196  0.02606479  0.8399592   0.9500618 ]\n",
      " [ 0.8730737   0.61149395  0.36391962  0.07006889]\n",
      " [ 0.80869991  0.72067267  0.46312308  0.82502639]]\n"
     ]
    }
   ],
   "source": [
    "# let's look inside these:\n",
    "rootgrp = nc.Dataset('test.nc', 'a')\n",
    "print(rootgrp.variables.keys())\n",
    "print(rootgrp.variables['temp'][0,0,[0,1,2,3],[0,1,2,3]])\n",
    "rootgrp.close()\n",
    "\n",
    "rootgrp = h5.File('test.h5', 'r')\n",
    "print(rootgrp['temp'])\n",
    "print(rootgrp['temp'][0, 0, 0:4, 0:4])\n",
    "rootgrp.close()"
   ]
  },
  {
   "cell_type": "markdown",
   "metadata": {},
   "source": [
    "# Attributes\n",
    "\n",
    "---\n",
    "\n",
    "This is just the metadata for the variables/groups."
   ]
  }
 ],
 "metadata": {
  "kernelspec": {
   "display_name": "Python 2",
   "language": "python",
   "name": "python2"
  },
  "language_info": {
   "codemirror_mode": {
    "name": "ipython",
    "version": 2
   },
   "file_extension": ".py",
   "mimetype": "text/x-python",
   "name": "python",
   "nbconvert_exporter": "python",
   "pygments_lexer": "ipython2",
   "version": "2.7.13"
  }
 },
 "nbformat": 4,
 "nbformat_minor": 2
}
