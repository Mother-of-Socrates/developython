{
 "cells": [
  {
   "cell_type": "markdown",
   "metadata": {
    "slideshow": {
     "slide_type": "slide"
    }
   },
   "source": [
    "# 2016 Fall - NASA DEVELOP\n",
    "\n",
    "---\n",
    "\n",
    "![NASA](http://www.nasa.gov/sites/all/themes/custom/nasatwo/images/nasa-logo.svg)\n",
    "\n",
    "### Goddard Space Flight Center\n",
    "\n",
    "#### September 28, 2016\n"
   ]
  },
  {
   "cell_type": "markdown",
   "metadata": {
    "slideshow": {
     "slide_type": "subslide"
    }
   },
   "source": [
    "# What is gdal?\n",
    "\n",
    "---\n",
    "\n",
    "* __Geospatial Data Abstraction Library__ - A programmatic way to do everything you can do in ArcGIS\n",
    "* Useful for building automated systems, performing repetitive analysis, other things\n",
    "* Developed by Frank Warmerdam, Sean Gilles, others\n",
    "* Consists of 2 sub-libraries:\n",
    "    * gdal - reading, processing, writing raster data\n",
    "    * ogr - reading, processing, writing vector data\n",
    "* There is also a library for R, C, and C++ programming langauge\n",
    "* [Further Info](http://osgeo.org)\n"
   ]
  },
  {
   "cell_type": "markdown",
   "metadata": {
    "slideshow": {
     "slide_type": "subslide"
    }
   },
   "source": [
    "# What can you do with gdal?\n",
    "\n",
    "---\n",
    "\n",
    "* Chain together and automate geoprocessing operations\n",
    "* I built this [application](http://projectmekongnasa.appspot.com) using gdal on the backend\n",
    "* Both ArcGIS and QGIS use GDAL \"under the hood\"\n",
    "* Better programmers can do way cooler stuff!"
   ]
  },
  {
   "cell_type": "markdown",
   "metadata": {
    "slideshow": {
     "slide_type": "subslide"
    }
   },
   "source": [
    "# Command Line Example\n",
    "\n",
    "---\n",
    "\n",
    "1. Download HDF MODIS file from [here](http://ftp://ladsweb.nascom.nasa.gov/allData/6/MOD09Q1/2013/289/MOD09Q1.A2013289.h28v07.006.2015270013424.hdf)\n",
    "    \n",
    "    ```\n",
    "    * If link doesn't work Copy/paste this URL (I guess you can't do ftps in Jupyter?)   \n",
    "    * ftp://ladsweb.nascom.nasa.gov/allData/6/MOD09Q1/2013/289/MOD09Q1.A2013289.h28v07.006.2015270013424.hdf\n",
    "    * Explain MODIS FTP directory tree overview.\n",
    "    ```\n",
    "\n",
    "2. Once download has completed, In a command prompt/Anaconda prompt, type:\n",
    "\n",
    "    ```bash\n",
    "    $ cd Downloads/\n",
    "\n",
    "    $ gdalinfo MOD09Q1.A2013289.h28v07.006.2015270013424.hdf\n",
    "    ```\n",
    "\n",
    "3. You should see the output. What is it?\n",
    "\n",
    "4. Save the output as a text file:\n",
    "\n",
    "    ```bash\n",
    "    $ gdalinfo MOD09Q1.A2013289.h28v07.006.2015270013424.hdf > MODinfo.txt\n",
    "    ```\n",
    "    \n",
    "5. Open info.txt in editor and look at the contents. What do you see?\n",
    "6. Extract B1 and B2 from Subdatasets:\n",
    "\n",
    "    ```bash\n",
    "    $ gdal_translate -of Gtiff HDF4_EOS:EOS_GRID:\"MOD09Q1.A2013289.h28v07.006.2015270013424.hdf\":MOD_Grid_250m_Surface_Reflectance:sur_refl_b01 b01.tif\n",
    "    \n",
    "    $ gdal_translate -of Gtiff HDF4_EOS:EOS_GRID:\"MOD09Q1.A2013289.h28v07.006.2015270013424.hdf\":MOD_Grid_250m_Surface_Reflectance:sur_refl_b02 b02.tif\n",
    "    ```\n",
    "7. What did you just do? Open b01.tif and b02.tif in ArcGIS\n",
    "8. How does it look? Funky right? Reproject it:\n",
    "\n",
    "    ```bash\n",
    "    $ gdalwarp b01.tif b01_prj.tif -t_srs EPSG:4326\n",
    "    ```\n",
    "    \n",
    "9. Not interested in the whole area? Clip it. Download shapefile for the bbox [here](https://drive.google.com/open?id=0B8a9e8PWHP0JZXVFdVpBd3gyaWM)\n",
    "\n",
    "    And do the clip:\n",
    "\n",
    "    ```bash\n",
    "    $ gdalwarp -cutline Cambodia.shp -crop_to_cutline -dstalpha b01_prj.tif b01_clip.tif\n",
    "    \n",
    "    $ gdalwarp -cutline Cambodia.shp -crop_to_cutline -dstalpha b02_prj.tif b02_clip.tif\n",
    "    ```\n",
    "\n",
    "10. Open in ArcGIS. What are you looking at? \n"
   ]
  },
  {
   "cell_type": "markdown",
   "metadata": {
    "slideshow": {
     "slide_type": "subslide"
    }
   },
   "source": [
    "# Python Example\n",
    "\n",
    "---\n",
    "\n",
    "GDAL becomes really useful when you can build automated pipelines to do stuff. My favorite way to do this is with Python. \n",
    "\n",
    "Look at the gdal_example.py file in this repository folder. (1) Run it line by line in the python shell, or (2) run it as a script from within your \"Downloads\" directory. What does it do? \n",
    "\n"
   ]
  }
 ],
 "metadata": {
  "celltoolbar": "Slideshow",
  "kernelspec": {
   "display_name": "python2",
   "language": "python",
   "name": "python2"
  },
  "language_info": {
   "codemirror_mode": {
    "name": "ipython",
    "version": 3
   },
   "file_extension": ".py",
   "mimetype": "text/x-python",
   "name": "python",
   "nbconvert_exporter": "python",
   "pygments_lexer": "ipython3",
   "version": "3.5.0"
  }
 },
 "nbformat": 4,
 "nbformat_minor": 0
}
