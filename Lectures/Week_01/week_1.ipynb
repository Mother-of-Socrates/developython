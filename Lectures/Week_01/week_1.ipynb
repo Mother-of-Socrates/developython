{
 "cells": [
  {
   "cell_type": "markdown",
   "metadata": {},
   "source": [
    "![NASA](http://www.nasa.gov/sites/all/themes/custom/nasatwo/images/nasa-logo.svg)\n",
    "![DEVELOP](../../DEVELOP_logo.png)\n",
    "\n",
    "---\n",
    "\n",
    "# Introduction\n",
    "\n",
    "### Goddard Space Flight Center\n",
    "\n",
    "#### February 22, 2017\n",
    "\n",
    "---\n",
    "\n",
    "---"
   ]
  },
  {
   "cell_type": "markdown",
   "metadata": {},
   "source": [
    "### About Our Setup\n",
    "\n",
    "---\n",
    "\n",
    "* Anaconda - Virtual environment (don't need to be root/admin), completely free (and easily managed)\n",
    "* Enthought Canopy - Virtual environment, not free to add packages/libraries, having several versions gets messy\n",
    "\n",
    "##### Computer Setup Instructions\n",
    "\n",
    "[Basic Setup](https://github.com/edmondb/developython/blob/master/README.md)"
   ]
  },
  {
   "cell_type": "markdown",
   "metadata": {},
   "source": [
    "# Who Are We?\n",
    "\n",
    "---\n",
    "\n",
    "* Alfred Hubbard\n",
    "* Brent Smith - Senior Scientific Programmer/Analyst, Code 610.1 GMAO - Operational developer, background: theoretical space physics"
   ]
  },
  {
   "cell_type": "markdown",
   "metadata": {},
   "source": [
    "# The Python Programming Language - A Synopsis\n",
    "\n",
    "---\n",
    "\n",
    "* Interpreted (think language translator between you and the computer)\n",
    "* Open Source (1991 by Guido van Rossum after Monty Python's Flying Circus)\n",
    "* Object-Oriented (makes programming very, very flexible and customizable)"
   ]
  },
  {
   "cell_type": "markdown",
   "metadata": {},
   "source": [
    "### 4 Ways to Run Python Code (i.e., approaches to the interpreter)\n",
    "\n",
    "* As a .py script (plain text document with python code, I use this method most)\n",
    "* In the Python shell (from the command line - not a good option)\n",
    "* In the iPython shell (interactive, better - still not a good option)\n",
    "* In a Jupter notebook (shareable, you are seeing one now, can run as a script or document)"
   ]
  },
  {
   "cell_type": "markdown",
   "metadata": {},
   "source": [
    "# As a script\n",
    "\n",
    "---\n",
    "\n",
    "1. Open the helloworld.py script in your text editor to see the contents of this Python script.\n",
    "2. In a terminal/command prompt/Anaconda prompt, type:\n",
    "\n",
    "    ```bash\n",
    "    $ python helloworld.py\n",
    "    ```\n",
    "\n",
    "3. You should see the output on the screen.\n",
    "\n",
    "__Caveat:__ Your prompt should be at the directory containg the helloworld.py script. (Perform an ```ls``` (Mac/Linux) or ```dir``` (Windows) to see if that file is in your current working directory."
   ]
  },
  {
   "cell_type": "markdown",
   "metadata": {},
   "source": [
    "# The # (Shebang)\n",
    "\n",
    "In scripts (Unix/Linux platforms), you can add a line to the top so you can make the script executable and not have to type `python` to run the script. This, for Python is one of the following:\n",
    "\n",
    "* The Python that comes with Linux/Unix OS:\n",
    "```python\n",
    "#! /usr/bin/python\n",
    "```\n",
    "* The first Python interpreter in your PATH environment variable:\n",
    "```python\n",
    "#! /usr/bin/env python\n",
    "```"
   ]
  },
  {
   "cell_type": "markdown",
   "metadata": {},
   "source": [
    "# Jupyter/IPython notebook\n",
    "\n",
    "---\n",
    "\n",
    "1. From terminal/command prompt/Anaconda prompt type:\n",
    "\n",
    "    ```bash\n",
    "    jupyter notebook\n",
    "    ```\n",
    "\n",
    "2. This directs you to a web browser and you can navigate to an already existing notebook or create one (right side menu New -> Python [default]).\n",
    "3. This will open up a new Untitled notebook where you can directly input Python code, Markup formatted text, or have raw text.\n",
    "4. Type:\n",
    "\n",
    "    ```python\n",
    "    print('Hello world!')\n",
    "    ```\n",
    "\n",
    "5. Press __```Shift-Enter```__, __```Cntrl-Enter```__, or click __Cells -> Run Cells__ or use the Play button near the top of the page.\n",
    "6. You will see the output now.\n",
    "7. Exit via closing the browser windows and stopping the server running (Cntrl + Enter) in the terminal/command prompt."
   ]
  },
  {
   "cell_type": "markdown",
   "metadata": {},
   "source": [
    "### Script vs. Notebook\n",
    "\n",
    "* Script is all code. This makes managing it easier when you work on a supercomputer.\n",
    "* Notebook allows you to put plots (aka output) with your code.\n",
    "* Notebooks are better for reports/presentations (or testing).\n",
    "* Scripts have less overhead (not tested)."
   ]
  },
  {
   "cell_type": "markdown",
   "metadata": {},
   "source": [
    "# Basic Calculator"
   ]
  },
  {
   "cell_type": "code",
   "execution_count": null,
   "metadata": {
    "collapsed": false
   },
   "outputs": [],
   "source": [
    "# mathematical operations\n",
    "2 + 2"
   ]
  },
  {
   "cell_type": "code",
   "execution_count": null,
   "metadata": {
    "collapsed": false
   },
   "outputs": [],
   "source": [
    "# store inside a variable\n",
    "result = -2*(4+9)\n",
    "print(result)"
   ]
  },
  {
   "cell_type": "markdown",
   "metadata": {},
   "source": [
    "# Imports"
   ]
  },
  {
   "cell_type": "code",
   "execution_count": null,
   "metadata": {
    "collapsed": false
   },
   "outputs": [],
   "source": [
    "import math\n",
    "\n",
    "math.pi"
   ]
  },
  {
   "cell_type": "markdown",
   "metadata": {},
   "source": [
    "> Python imports are like libraries/utilities that others have written for you to use. You can import packages (set of scripts) or modules (single scripts).\n",
    "\n",
    "Basic Example:\n",
    "\n",
    "```python\n",
    "import numpy\n",
    "print(numpy)\n",
    "```\n",
    "    \n",
    "1. Imports can be renamed:\n",
    "\n",
    "  ```python\n",
    "  import numpy as np\n",
    "  print(np)\n",
    "  ```\n",
    "\n",
    "2. You can import submodules directly:\n",
    "\n",
    "  ```python\n",
    "  from numpy import ma\n",
    "  print(ma)\n",
    "  ```\n",
    "\n",
    "3. You can import specific parts of modules as well (i.e., an object, function, or class within the module):\n",
    "\n",
    "  ```python\n",
    "  from numpy.ma import masked_array\n",
    "  print(masked_array)\n",
    "  ```"
   ]
  },
  {
   "cell_type": "markdown",
   "metadata": {},
   "source": [
    "# PEP8\n",
    "\n",
    "The Python Style Guide tells you the best way to perform imports, name functions, and overall coding advice. It used to be called PEP8 (Python Enhancement Proposal 8), but in 2016, it was renamed to pycodestyle.\n",
    "\n",
    "* [PEP8](http://www.python.org/dev/peps/pep-0008/)\n",
    "* [pycodestyle](http://github.com/PyCQA/pycodestyle)\n",
    "* [pep8](http://pep8.readthedocs.io/en/release-1.7.x/) - a Python package that checks your code for you.\n",
    "* [pep8.org](http://pep8.org) - a more human friendly approach"
   ]
  },
  {
   "cell_type": "markdown",
   "metadata": {},
   "source": [
    "# Strings (Short Version)\n",
    "\n",
    "* Single-quotes: `'a string'`\n",
    "* Double-quotes: `\"another string\"`\n",
    "* Joining/concatenation: `'FirstName' + 'LastName'`\n",
    "\n",
    "There are multi-line strings (used also for code commenting):\n",
    "\n",
    "```python\n",
    "'''this\n",
    "is\n",
    "a multi-\n",
    "line string.'''\n",
    "\n",
    "\"\"\"as is\n",
    "this \n",
    "one\"\"\"\n",
    "```"
   ]
  },
  {
   "cell_type": "markdown",
   "metadata": {},
   "source": [
    "# The Print Statement\n",
    "\n",
    "Python 2.x:\n",
    "```python\n",
    "print 'Hi class!'\n",
    "\n",
    "print('Hello, class!')\n",
    "```\n",
    "\n",
    "Python 3.x:\n",
    "```python\n",
    "print('Hello, class!')\n",
    "```"
   ]
  },
  {
   "cell_type": "markdown",
   "metadata": {},
   "source": [
    "# Sring Fomatting\n",
    "\n",
    "* Old Way (like other languages):\n",
    "    ```python\n",
    "    print('This is a shortened number: %3.2f' % (3.1432953265328))\n",
    "    ```\n",
    "* New Way:\n",
    "    ```python\n",
    "    print('This is a shortened number: {:3.2f}'.format(3.1432953265328))\n",
    "    ```\n",
    "\n",
    "Good resource to compare: [PyFormat](http://pyformat.info)"
   ]
  },
  {
   "cell_type": "markdown",
   "metadata": {},
   "source": [
    "# Numerical Expressions\n",
    "\n",
    "* Python distinguishes between strings and numbers:\n",
    "\n",
    "```python\n",
    "b = 1.2            # b is a number\n",
    "b = `1.2`          # b is a string\n",
    "a = 0.5 * b        # illegal: b is NOT converted\n",
    "a = 0.5 * float(b) # this works\n",
    "```"
   ]
  },
  {
   "cell_type": "markdown",
   "metadata": {},
   "source": [
    "# Data Types\n",
    "\n",
    "| Type | Range | To Define | To Convert |\n",
    "|------|-------|-----------|------------|\n",
    "|float |numbers|x=1.0      |z=float(x)  |\n",
    "|integer|numbers|x=1       |z=int(x)    |\n",
    "|complex|complex numbers|x=3j|z=complex(a,b)|\n",
    "|string|text string|x='test'|z=str(x)|\n",
    "|boolean|True or False|x=True|z=bool(x)|"
   ]
  },
  {
   "cell_type": "markdown",
   "metadata": {},
   "source": [
    "# Iterables\n",
    "\n",
    "---\n",
    "\n",
    "__Mutable__ - Changeable  \n",
    "__Immutable__ - Not Changeable\n",
    "\n",
    "* Lists:\n",
    "\n",
    "  ```python\n",
    "  a_list = ['item 1', 'something else', 2, True, 'and so on']\n",
    "  another = list('hello')\n",
    "  ```\n",
    "\n",
    "  * think grocery list (can be changed, sorted)\n",
    "  * loop/iterate upon each item (could take a while)\n",
    "* Tuples\n",
    "  * permanant (not changing) lists\n",
    "  \n",
    "  ```python\n",
    "  numbers = (1,2,3)\n",
    "  first, second, third = numbers\n",
    "  another = tuple('one', 'two')\n",
    "  ```\n",
    "  \n",
    "* Dictionaries\n",
    "  * key/value paring (like word/meaning in a dictionary)\n",
    "  * keys are strings or integers\n",
    "  \n",
    "  ```python\n",
    "  d = {'key1':'value', 'key2':20, 3:['a', 'list'], 'k5':{'a':'nested','dict':'!'}}\n",
    "  another = dict(key='value', key2='another')\n",
    "  ```"
   ]
  },
  {
   "cell_type": "code",
   "execution_count": null,
   "metadata": {
    "collapsed": true
   },
   "outputs": [],
   "source": [
    "# Examples: List\n",
    "groceries = ['eggs', 'milk', 'bacon']\n",
    "groceries.append('coffee')\n",
    "groceries.remove('eggs')"
   ]
  },
  {
   "cell_type": "code",
   "execution_count": null,
   "metadata": {
    "collapsed": true
   },
   "outputs": [],
   "source": [
    "# Another example - list\n",
    "L = []            # declare empty list  \n",
    "L.append(1.2)     # add a number 1.2  \n",
    "L.append('a')     # add a text element  \n",
    "L[0] = 1.3        # change an item  \n",
    "del L[1]          # delete an item  \n",
    "len(L)            # length of list  \n",
    "L.count(x)        # count the number of times x occurs  \n",
    "L.index(x)        # return the index of the first occurrence of x  \n",
    "L.remove(x)       # delete the first occurrence of x  \n",
    "L.reverse()       # reverse the order of elements in the list  \n",
    "L = ['a'] + ['b'] # can combine two lists together"
   ]
  },
  {
   "cell_type": "markdown",
   "metadata": {},
   "source": [
    "# Slicing\n",
    "\n",
    "---\n",
    "\n",
    "```\n",
    " +---+---+---+---+---+---+  \n",
    " | P | y | t | h | o | n |  \n",
    " +---+---+---+---+---+---+  \n",
    " 0   1   2   3   4   5   6  \n",
    "-6  -5  -4  -3  -2  -1\n",
    "```\n",
    "\n",
    "In Python, indexes start at 0, not 1. The above shows slicing on a string, but we can also slice lists and tuples."
   ]
  },
  {
   "cell_type": "code",
   "execution_count": null,
   "metadata": {
    "collapsed": false
   },
   "outputs": [],
   "source": [
    "# slicing example\n",
    "print(groceries)\n",
    "print(groceries[0])\n",
    "print(groceries[-1])\n",
    "print(groceries[2])\n",
    "print(groceries[:2])\n",
    "print(groceries[-3:])\n",
    "print(groceries[10])\n",
    "print(groceries[::2])"
   ]
  }
 ],
 "metadata": {
  "anaconda-cloud": {},
  "kernelspec": {
   "display_name": "Python [default]",
   "language": "python",
   "name": "python2"
  },
  "language_info": {
   "codemirror_mode": {
    "name": "ipython",
    "version": 2
   },
   "file_extension": ".py",
   "mimetype": "text/x-python",
   "name": "python",
   "nbconvert_exporter": "python",
   "pygments_lexer": "ipython2",
   "version": "2.7.12"
  }
 },
 "nbformat": 4,
 "nbformat_minor": 1
}
