{
 "cells": [
  {
   "cell_type": "markdown",
   "metadata": {
    "slideshow": {
     "slide_type": "slide"
    }
   },
   "source": [
    "![NASA](http://www.nasa.gov/sites/all/themes/custom/nasatwo/images/nasa-logo.svg)\n",
    "![DEVELOP](../../DEVELOP_logo.png)\n",
    "\n",
    "---\n",
    "\n",
    "# File I/O\n",
    "\n",
    "### Goddard Space Flight Center\n",
    "\n",
    "#### September 28, 2016"
   ]
  },
  {
   "cell_type": "markdown",
   "metadata": {
    "slideshow": {
     "slide_type": "subslide"
    }
   },
   "source": [
    "# File Formats\n",
    "\n",
    "---\n",
    "\n",
    "2 Main Formats:\n",
    "* Text (plain text, formatted text, documents) usually ASCII\n",
    "* Binary (document, image, audio, video)"
   ]
  },
  {
   "cell_type": "markdown",
   "metadata": {
    "slideshow": {
     "slide_type": "subslide"
    }
   },
   "source": [
    "# Reading a File\n",
    "\n",
    "---\n",
    "\n",
    "```python\n",
    "f = open('sample.txt', 'r')\n",
    "contents = f.read()\n",
    "f.close()\n",
    "```"
   ]
  },
  {
   "cell_type": "markdown",
   "metadata": {
    "slideshow": {
     "slide_type": "subslide"
    }
   },
   "source": [
    "Helpful\n",
    "\n",
    "1. `f.mode`\n",
    "2. dir(f)\n",
    "3. read(64) # reads 64-byte chunk\n",
    "4. read() # reads entire file (puts file pointer at end of file after read)\n",
    "5. readline()\n",
    "6. readlines()\n",
    "7. File access modes: (r, w, a, + versions, b versions)\n",
    "\n",
    "[Reading and Writing Files](http://docs.python.org/2/tutorial/inputoutput.html#reading-and-writing-files)"
   ]
  },
  {
   "cell_type": "markdown",
   "metadata": {
    "slideshow": {
     "slide_type": "subslide"
    }
   },
   "source": [
    "# A Better Way\n",
    "\n",
    "---\n",
    "\n",
    "```python\n",
    "with open('sample.txt', 'r') as f:\n",
    "    contents = f.read()\n",
    "```\n",
    "\n",
    "Why is this better?"
   ]
  },
  {
   "cell_type": "markdown",
   "metadata": {
    "slideshow": {
     "slide_type": "subslide"
    }
   },
   "source": [
    "# Deliminated Files\n",
    "\n",
    "---\n",
    "\n",
    "```python\n",
    "import csv\n",
    "f = open('my_file.csv', 'rb')\n",
    "data = cvs.reader(f) # and writer\n",
    "f.close()\n",
    "```"
   ]
  },
  {
   "cell_type": "markdown",
   "metadata": {
    "slideshow": {
     "slide_type": "subslide"
    }
   },
   "source": [
    "# Binary Data\n",
    "\n",
    "---"
   ]
  },
  {
   "cell_type": "code",
   "execution_count": null,
   "metadata": {
    "collapsed": true,
    "slideshow": {
     "slide_type": "fragment"
    }
   },
   "outputs": [],
   "source": [
    "s = \"Hello world!\"\n",
    "with open('foo.bin','wb') as f:\n",
    "    f.write(s)\n",
    "\n",
    "with open('foo.bin','r') as f:\n",
    "    s = f.read()\n",
    "print(s)\n",
    "\n",
    "# The differences between binary and ascii encoding won't be obvious for simple alphanumeric \n",
    "# strings, but will become important if you're processing text that includes characters not \n",
    "# in the ascii character set.\n",
    "a = \"a\"\n",
    "print(' '.join(format(ord(x), 'b') for x in a))\n",
    "print int('1100001', 2)"
   ]
  },
  {
   "cell_type": "markdown",
   "metadata": {
    "slideshow": {
     "slide_type": "subslide"
    }
   },
   "source": [
    "There is also the `pickle` module, but I will only say this: it is used to store data quickly, but not intended to store large amounts of data. It is binary and you create pickles of data and then unpickle the data."
   ]
  }
 ],
 "metadata": {
  "celltoolbar": "Slideshow",
  "kernelspec": {
   "display_name": "Python [Root]",
   "language": "python",
   "name": "Python [Root]"
  },
  "language_info": {
   "codemirror_mode": {
    "name": "ipython",
    "version": 2
   },
   "file_extension": ".py",
   "mimetype": "text/x-python",
   "name": "python",
   "nbconvert_exporter": "python",
   "pygments_lexer": "ipython2",
   "version": "2.7.12"
  }
 },
 "nbformat": 4,
 "nbformat_minor": 0
}
