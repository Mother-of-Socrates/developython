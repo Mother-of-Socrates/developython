{
 "cells": [
  {
   "cell_type": "markdown",
   "metadata": {
    "slideshow": {
     "slide_type": "slide"
    }
   },
   "source": [
    "![NASA](http://www.nasa.gov/sites/all/themes/custom/nasatwo/images/nasa-logo.svg)\n",
    "![DEVELOP](../../DEVELOP_logo.png)\n",
    "\n",
    "---\n",
    "\n",
    "# NumPy\n",
    "\n",
    "### Goddard Space Flight Center\n",
    "\n",
    "#### September 28, 2016"
   ]
  },
  {
   "cell_type": "markdown",
   "metadata": {
    "slideshow": {
     "slide_type": "subslide"
    }
   },
   "source": [
    "# What is NumPy?\n",
    "\n",
    "---"
   ]
  },
  {
   "cell_type": "markdown",
   "metadata": {
    "slideshow": {
     "slide_type": "fragment"
    }
   },
   "source": [
    "* Efficient array computing package in Python.\n",
    "* Handles array manipulation and creation and indexing!\n",
    "* Provides common mathematical operations for arrays.\n",
    "* Faster than using __for__ loops! Use array operations whenever possible."
   ]
  },
  {
   "cell_type": "markdown",
   "metadata": {
    "slideshow": {
     "slide_type": "subslide"
    }
   },
   "source": [
    "# Making Arrays\n",
    "\n",
    "---"
   ]
  },
  {
   "cell_type": "code",
   "execution_count": null,
   "metadata": {
    "collapsed": true,
    "slideshow": {
     "slide_type": "fragment"
    }
   },
   "outputs": [],
   "source": [
    "import numpy as np\n",
    "\n",
    "li = [1,2,3,4,5]\n",
    "arr = np.array([1,2,3,4,5])\n",
    "print(arr)"
   ]
  },
  {
   "cell_type": "markdown",
   "metadata": {
    "slideshow": {
     "slide_type": "subslide"
    }
   },
   "source": [
    "* Basic array construct is a `ndarray` for `n`-dimensional arrays, but we can have 1-D arrays too.\n",
    "\n",
    "    (__Note:__ You usually don't create an `ndarray` directly, but through the `array` method.)\n",
    "    \n",
    "* Behave like lists when they are 1-D.\n",
    "* Biggest difference: all elements are of the same data type! This allows for much faster computation."
   ]
  },
  {
   "cell_type": "code",
   "execution_count": null,
   "metadata": {
    "collapsed": true,
    "slideshow": {
     "slide_type": "fragment"
    }
   },
   "outputs": [],
   "source": [
    "print(li[-1])\n",
    "print(arr[-1])\n",
    "\n",
    "# let's try to change these\n",
    "li[3] = 'a string'\n",
    "arr[3] = 'a string'\n",
    "\n",
    "print(arr.dtype) # type for elements of array\n",
    "arr = np.array([1.5, 2.5, 3.5, 4.5, 5.5], dtype=np.uint8)"
   ]
  },
  {
   "cell_type": "markdown",
   "metadata": {
    "slideshow": {
     "slide_type": "subslide"
    }
   },
   "source": [
    "Sometimes we know the size of the array, but we want the array filled with 0 or 1."
   ]
  },
  {
   "cell_type": "code",
   "execution_count": null,
   "metadata": {
    "collapsed": true,
    "slideshow": {
     "slide_type": "fragment"
    }
   },
   "outputs": [],
   "source": [
    "arr = np.ones((3,2))\n",
    "arr = np.zeroes((6,2))\n",
    "arr = np.empty((10,5))\n",
    "\n",
    "print(arr.shape)"
   ]
  },
  {
   "cell_type": "markdown",
   "metadata": {
    "slideshow": {
     "slide_type": "subslide"
    }
   },
   "source": [
    "Or, maybe we want to create a linear or logarithmic grid space..."
   ]
  },
  {
   "cell_type": "code",
   "execution_count": null,
   "metadata": {
    "collapsed": true,
    "slideshow": {
     "slide_type": "fragment"
    }
   },
   "outputs": [],
   "source": [
    "arr = np.linspace(-5, 5, 11) # start, stop, num\n",
    "print(arr)\n",
    "\n",
    "arr = np.logspace(0, 10, num=10, base=10.) # start ** base, stop ** base\n",
    "print(arr)\n",
    "\n",
    "arr = np.arange(-5, 5, 1, float) # start, stop, increment\n",
    "print(arr)"
   ]
  },
  {
   "cell_type": "markdown",
   "metadata": {
    "slideshow": {
     "slide_type": "subslide"
    }
   },
   "source": [
    "# Multidimensional Arrays\n",
    "\n",
    "---"
   ]
  },
  {
   "cell_type": "code",
   "execution_count": null,
   "metadata": {
    "collapsed": true,
    "slideshow": {
     "slide_type": "fragment"
    }
   },
   "outputs": [],
   "source": [
    "arr = np.array([[0.2, 5.3],[7.4, 8.2]])\n",
    "print(arr)\n",
    "print(arr[0][-1])"
   ]
  },
  {
   "cell_type": "markdown",
   "metadata": {
    "slideshow": {
     "slide_type": "subslide"
    }
   },
   "source": [
    "# Array Operations\n",
    "\n",
    "---"
   ]
  },
  {
   "cell_type": "code",
   "execution_count": null,
   "metadata": {
    "collapsed": false,
    "slideshow": {
     "slide_type": "fragment"
    }
   },
   "outputs": [],
   "source": [
    "arr = np.array([[0.2, 5.3],[7.4, 8.2]])\n",
    "b = 3*arr -1\n",
    "print(b)"
   ]
  },
  {
   "cell_type": "code",
   "execution_count": null,
   "metadata": {
    "collapsed": true,
    "slideshow": {
     "slide_type": "fragment"
    }
   },
   "outputs": [],
   "source": [
    "print(arr.mean())\n",
    "print(arr.std())"
   ]
  },
  {
   "cell_type": "markdown",
   "metadata": {
    "slideshow": {
     "slide_type": "subslide"
    }
   },
   "source": [
    "# Reference Links\n",
    "\n",
    "* [NumPy Reference](http://docs.scipy.org/doc/numpy/reference/)\n",
    "* [Tentative NumPy Tutorial](http://scipy.github.io/old-wiki/pages/Tentative_NumPy_Tutorial.html)\n",
    "* [for MATLAB users](http://mathesaurus.sourceforge.net/matlab-numpy.html)\n",
    "* [for R users](http://mathesaurus.sourceforge.net/r-numpy.html)\n",
    "* [NumPy for Biologists](http://people.duke.edu/~ccc14/pcfb/numerics.html)\n",
    "* [SciPy 2012 Video](http://www.youtube.com/watch?v=3Fp1zn5ao2M)"
   ]
  }
 ],
 "metadata": {
  "anaconda-cloud": {},
  "celltoolbar": "Slideshow",
  "kernelspec": {
   "display_name": "Python [Root]",
   "language": "python",
   "name": "Python [Root]"
  },
  "language_info": {
   "codemirror_mode": {
    "name": "ipython",
    "version": 2
   },
   "file_extension": ".py",
   "mimetype": "text/x-python",
   "name": "python",
   "nbconvert_exporter": "python",
   "pygments_lexer": "ipython2",
   "version": "2.7.12"
  }
 },
 "nbformat": 4,
 "nbformat_minor": 0
}
