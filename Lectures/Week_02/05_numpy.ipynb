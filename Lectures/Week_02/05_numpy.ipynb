{
 "cells": [
  {
   "cell_type": "markdown",
   "metadata": {
    "slideshow": {
     "slide_type": "slide"
    }
   },
   "source": [
    "![NASA](http://www.nasa.gov/sites/all/themes/custom/nasatwo/images/nasa-logo.svg)\n",
    "![DEVELOP](../../DEVELOP_logo.png)\n",
    "\n",
    "---\n",
    "\n",
    "# NumPy\n",
    "\n",
    "### Goddard Space Flight Center\n",
    "\n",
    "#### September 28, 2016"
   ]
  },
  {
   "cell_type": "markdown",
   "metadata": {
    "slideshow": {
     "slide_type": "subslide"
    }
   },
   "source": [
    "# What is NumPy?\n",
    "\n",
    "---"
   ]
  },
  {
   "cell_type": "markdown",
   "metadata": {
    "slideshow": {
     "slide_type": "fragment"
    }
   },
   "source": [
    "* Efficient array computing package in Python.\n",
    "* Handles array manipulation and creation and indexing!\n",
    "* Provides common mathematical operations for arrays.\n",
    "* Faster than using __for__ loops! Use array operations whenever possible."
   ]
  },
  {
   "cell_type": "markdown",
   "metadata": {
    "slideshow": {
     "slide_type": "subslide"
    }
   },
   "source": [
    "# Making Arrays\n",
    "\n",
    "---"
   ]
  },
  {
   "cell_type": "code",
   "execution_count": 3,
   "metadata": {
    "collapsed": false,
    "slideshow": {
     "slide_type": "fragment"
    }
   },
   "outputs": [
    {
     "name": "stdout",
     "output_type": "stream",
     "text": [
      "[1 2 3 4 5]\n",
      "<type 'numpy.ndarray'>\n",
      "<type 'list'>\n"
     ]
    }
   ],
   "source": [
    "import numpy as np\n",
    "\n",
    "li = [1,2,3,4,5]\n",
    "arr = np.array([1,2,3,4,5])\n",
    "print(arr)\n",
    "print(type(arr))\n",
    "print(type(li))"
   ]
  },
  {
   "cell_type": "markdown",
   "metadata": {
    "slideshow": {
     "slide_type": "subslide"
    }
   },
   "source": [
    "* Basic array construct is a `ndarray` for `n`-dimensional arrays, but we can have 1-D arrays too.\n",
    "\n",
    "    (__Note:__ You usually don't create an `ndarray` directly, but through the `array` method.)\n",
    "    \n",
    "* Behave like lists when they are 1-D.\n",
    "* Biggest difference: all elements are of the same data type! This allows for much faster computation."
   ]
  },
  {
   "cell_type": "code",
   "execution_count": 13,
   "metadata": {
    "collapsed": false,
    "slideshow": {
     "slide_type": "fragment"
    }
   },
   "outputs": [
    {
     "name": "stdout",
     "output_type": "stream",
     "text": [
      "5\n",
      "5\n",
      "[1, 2, 3, 'a string', 5]\n",
      "[  1   2   3 255   5]\n",
      "uint8\n",
      "[  1   2   3   4   5 250]\n",
      "1\n"
     ]
    }
   ],
   "source": [
    "print(li[-1])\n",
    "print(arr[-1])\n",
    "\n",
    "# let's try to change these\n",
    "li[3] = 'a string'\n",
    "arr[3] = -1\n",
    "print(li)\n",
    "print(arr)\n",
    "\n",
    "print(arr.dtype) # type for elements of array\n",
    "arr = np.array([1.5, 2.5, 3.5, 4.5, 5.5, -6.5], dtype=np.uint8)\n",
    "print(arr)\n",
    "print(np.uint8(1.5))"
   ]
  },
  {
   "cell_type": "markdown",
   "metadata": {
    "slideshow": {
     "slide_type": "subslide"
    }
   },
   "source": [
    "Sometimes we know the size of the array, but we want the array filled with 0 or 1."
   ]
  },
  {
   "cell_type": "code",
   "execution_count": 31,
   "metadata": {
    "collapsed": false,
    "slideshow": {
     "slide_type": "fragment"
    }
   },
   "outputs": [
    {
     "name": "stdout",
     "output_type": "stream",
     "text": [
      "[[[  2.21511805e-314   2.17293623e-314]\n",
      "  [  2.21505631e-314   2.17298025e-314]\n",
      "  [  2.12199579e-314   2.17089733e-314]\n",
      "  [  1.27319747e-313   4.66094266e-309]\n",
      "  [  1.62863271e-292   1.76125793e-312]]\n",
      "\n",
      " [[  6.42285340e-323   1.27319747e-313]\n",
      "  [  1.27319747e-313   1.27319747e-313]\n",
      "  [  1.27319747e-313   1.27319747e-313]\n",
      "  [  4.44659081e-323   2.54639495e-313]\n",
      "  [  7.41098469e-323   3.81959242e-313]]]\n"
     ]
    }
   ],
   "source": [
    "arr = np.ones((3,2))\n",
    "#print(arr)\n",
    "arr = np.zeros((6,2))\n",
    "#print(arr)\n",
    "arr = np.empty((2,5,2), dtype=np.float64)\n",
    "print(arr)\n",
    "\n",
    "#print(arr.shape)"
   ]
  },
  {
   "cell_type": "markdown",
   "metadata": {
    "slideshow": {
     "slide_type": "subslide"
    }
   },
   "source": [
    "Or, maybe we want to create a linear or logarithmic grid space..."
   ]
  },
  {
   "cell_type": "code",
   "execution_count": 37,
   "metadata": {
    "collapsed": false,
    "slideshow": {
     "slide_type": "fragment"
    }
   },
   "outputs": [
    {
     "name": "stdout",
     "output_type": "stream",
     "text": [
      "[-5 -4 -3 -2 -1  0  1  2  3  4  5]\n",
      "[          1          12         166        2154       27825      359381\n",
      "     4641588    59948425   774263682 10000000000]\n",
      "[  -5.   -2.    1.    4.    7.   10.   13.   16.   19.   22.   25.   28.\n",
      "   31.   34.   37.   40.   43.   46.   49.   52.   55.   58.   61.   64.\n",
      "   67.   70.   73.   76.   79.   82.   85.   88.   91.   94.   97.  100.\n",
      "  103.  106.  109.  112.  115.  118.  121.  124.  127.  130.  133.  136.\n",
      "  139.  142.  145.  148.  151.  154.  157.  160.  163.  166.  169.  172.\n",
      "  175.  178.  181.  184.  187.  190.  193.  196.  199.  202.  205.  208.\n",
      "  211.  214.  217.  220.  223.  226.  229.  232.  235.  238.  241.  244.\n",
      "  247.  250.  253.  256.  259.  262.  265.  268.  271.  274.  277.  280.\n",
      "  283.  286.  289.  292.  295.  298.  301.  304.  307.  310.  313.  316.\n",
      "  319.  322.  325.  328.  331.  334.  337.  340.  343.  346.  349.  352.\n",
      "  355.  358.  361.  364.  367.  370.  373.  376.  379.  382.  385.  388.\n",
      "  391.  394.  397.  400.  403.  406.  409.  412.  415.  418.  421.  424.\n",
      "  427.  430.  433.  436.  439.  442.  445.  448.  451.  454.  457.  460.\n",
      "  463.  466.  469.  472.  475.  478.  481.  484.  487.  490.  493.  496.\n",
      "  499.]\n"
     ]
    }
   ],
   "source": [
    "arr = np.linspace(-5, 5, 11, dtype=np.int64) # start, stop, num\n",
    "print(arr)\n",
    "\n",
    "arr = np.logspace(0, 10, num=10, base=10., dtype=np.int64) # base ** start, base ** stop\n",
    "print(arr)\n",
    "\n",
    "arr = np.arange(-5, 500, 3, float) # start, stop, increment\n",
    "print(arr)"
   ]
  },
  {
   "cell_type": "markdown",
   "metadata": {
    "slideshow": {
     "slide_type": "subslide"
    }
   },
   "source": [
    "# Multidimensional Arrays\n",
    "\n",
    "---"
   ]
  },
  {
   "cell_type": "code",
   "execution_count": 42,
   "metadata": {
    "collapsed": false,
    "slideshow": {
     "slide_type": "fragment"
    }
   },
   "outputs": [
    {
     "name": "stdout",
     "output_type": "stream",
     "text": [
      "[[ 0.2  5.3]\n",
      " [ 7.4  8.2]]\n",
      "[[ 0.2  5.3]]\n"
     ]
    }
   ],
   "source": [
    "arr = np.array([[0.2, 5.3],[7.4, 8.2]])\n",
    "print(arr)\n",
    "print(arr[:-1])"
   ]
  },
  {
   "cell_type": "markdown",
   "metadata": {
    "slideshow": {
     "slide_type": "subslide"
    }
   },
   "source": [
    "# Array Operations\n",
    "\n",
    "---"
   ]
  },
  {
   "cell_type": "code",
   "execution_count": 43,
   "metadata": {
    "collapsed": false,
    "slideshow": {
     "slide_type": "fragment"
    }
   },
   "outputs": [
    {
     "name": "stdout",
     "output_type": "stream",
     "text": [
      "[[ -0.4  14.9]\n",
      " [ 21.2  23.6]]\n"
     ]
    }
   ],
   "source": [
    "arr = np.array([[0.2, 5.3],[7.4, 8.2]])\n",
    "b = 3*arr -1\n",
    "print(b)"
   ]
  },
  {
   "cell_type": "code",
   "execution_count": 44,
   "metadata": {
    "collapsed": false,
    "slideshow": {
     "slide_type": "fragment"
    }
   },
   "outputs": [
    {
     "name": "stdout",
     "output_type": "stream",
     "text": [
      "5.275\n",
      "3.11558581971\n"
     ]
    }
   ],
   "source": [
    "print(arr.mean())\n",
    "print(arr.std())"
   ]
  },
  {
   "cell_type": "markdown",
   "metadata": {
    "slideshow": {
     "slide_type": "subslide"
    }
   },
   "source": [
    "# Reference Links\n",
    "\n",
    "* [NumPy Reference](http://docs.scipy.org/doc/numpy/reference/)\n",
    "* [Tentative NumPy Tutorial](http://scipy.github.io/old-wiki/pages/Tentative_NumPy_Tutorial.html)\n",
    "* [for MATLAB users](http://mathesaurus.sourceforge.net/matlab-numpy.html)\n",
    "* [for R users](http://mathesaurus.sourceforge.net/r-numpy.html)\n",
    "* [NumPy for Biologists](http://people.duke.edu/~ccc14/pcfb/numerics.html)\n",
    "* [SciPy 2012 Video](http://www.youtube.com/watch?v=3Fp1zn5ao2M)"
   ]
  }
 ],
 "metadata": {
  "anaconda-cloud": {},
  "celltoolbar": "Slideshow",
  "kernelspec": {
   "display_name": "Python [Root]",
   "language": "python",
   "name": "Python [Root]"
  },
  "language_info": {
   "codemirror_mode": {
    "name": "ipython",
    "version": 2
   },
   "file_extension": ".py",
   "mimetype": "text/x-python",
   "name": "python",
   "nbconvert_exporter": "python",
   "pygments_lexer": "ipython2",
   "version": "2.7.12"
  }
 },
 "nbformat": 4,
 "nbformat_minor": 0
}
