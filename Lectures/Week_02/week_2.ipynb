{
 "cells": [
  {
   "cell_type": "markdown",
   "metadata": {},
   "source": [
    "![NASA](http://www.nasa.gov/sites/all/themes/custom/nasatwo/images/nasa-logo.svg)\n",
    "![DEVELOP](../../DEVELOP_logo.png)\n",
    "\n",
    "---\n",
    "\n",
    "# Introduction Part II\n",
    "\n",
    "### Goddard Space Flight Center\n",
    "\n",
    "#### February 27, 2017\n",
    "\n",
    "---\n",
    "\n",
    "---"
   ]
  },
  {
   "cell_type": "markdown",
   "metadata": {},
   "source": [
    "# Basic File Input/Output (IO)\n",
    "\n",
    "---\n",
    "\n",
    "Types of Files:\n",
    "* ASCII\n",
    "* Binary"
   ]
  },
  {
   "cell_type": "markdown",
   "metadata": {},
   "source": [
    "### Write an ASCII File"
   ]
  },
  {
   "cell_type": "code",
   "execution_count": null,
   "metadata": {
    "collapsed": true
   },
   "outputs": [],
   "source": [
    "f = open('sample.txt', 'w')\n",
    "contents = f.write('Here is some content.\\nMore content.\\n\\nAnd even more content.')\n",
    "f.close()"
   ]
  },
  {
   "cell_type": "markdown",
   "metadata": {},
   "source": [
    "### Read an ASCII File"
   ]
  },
  {
   "cell_type": "code",
   "execution_count": null,
   "metadata": {
    "collapsed": true
   },
   "outputs": [],
   "source": [
    "f = open('sample.txt', 'r')\n",
    "contents = f.read()\n",
    "f.close()"
   ]
  },
  {
   "cell_type": "markdown",
   "metadata": {},
   "source": [
    "Helpful\n",
    "\n",
    "1. `f.mode`\n",
    "2. dir(f)\n",
    "3. read(64) # reads 64-byte chunk\n",
    "4. read() # reads entire file (puts file pointer at end of file after read)\n",
    "5. readline()\n",
    "6. readlines()\n",
    "7. File access modes: (r, w, a, + versions, b versions)\n",
    "\n",
    "[Reading and Writing Files](http://docs.python.org/2/tutorial/inputoutput.html#reading-and-writing-files)"
   ]
  },
  {
   "cell_type": "markdown",
   "metadata": {},
   "source": [
    "### A Better Way\n",
    "\n",
    "---\n",
    "\n",
    "```python\n",
    "with open('sample.txt', 'r') as f:\n",
    "    contents = f.read()\n",
    "```\n",
    "\n",
    "Why might this be better?"
   ]
  },
  {
   "cell_type": "markdown",
   "metadata": {},
   "source": [
    "### Deliminated Files\n",
    "\n",
    "---\n",
    "\n",
    "```python\n",
    "import csv\n",
    "f = open('my_file.csv', 'rb')\n",
    "data = csv.reader(f) # and writer\n",
    "f.close()\n",
    "```"
   ]
  },
  {
   "cell_type": "markdown",
   "metadata": {},
   "source": [
    "### Binary Data"
   ]
  },
  {
   "cell_type": "code",
   "execution_count": null,
   "metadata": {
    "collapsed": false
   },
   "outputs": [],
   "source": [
    "s = \"Hello world!\"\n",
    "with open('foo.bin','wb') as f:\n",
    "    f.write(s)\n",
    "\n",
    "with open('foo.bin','r') as f:\n",
    "    s = f.read()\n",
    "print(s)\n",
    "\n",
    "# The differences between binary and ascii encoding won't be obvious for simple alphanumeric \n",
    "# strings, but will become important if you're processing text that includes characters not \n",
    "# in the ascii character set.\n",
    "a = \"a\"\n",
    "print(' '.join(format(ord(x), 'b') for x in a))\n",
    "print int('1100001', 2)"
   ]
  },
  {
   "cell_type": "markdown",
   "metadata": {},
   "source": [
    "There is also the `pickle` module, but I will only say this: it is used to store data quickly, but not intended to store large amounts of data. It is binary and you create pickles of data and then unpickle the data."
   ]
  },
  {
   "cell_type": "markdown",
   "metadata": {},
   "source": [
    "# Conditionals"
   ]
  },
  {
   "cell_type": "markdown",
   "metadata": {},
   "source": [
    "### Booleans\n",
    "\n",
    "---\n",
    "\n",
    "Either `True` or `False` represent booleans. You can also use respectively a 1 or 0 for binary booleans.\n",
    "\n",
    "What happens if you use the number 5 as a boolean?"
   ]
  },
  {
   "cell_type": "markdown",
   "metadata": {},
   "source": [
    "### the `if` statement\n",
    "\n",
    "---\n",
    "\n",
    "```python\n",
    "if conditional:\n",
    "    # Python statements when condition evaluates to True\n",
    "    # Indented for context\n",
    "```"
   ]
  },
  {
   "cell_type": "code",
   "execution_count": null,
   "metadata": {
    "collapsed": false
   },
   "outputs": [],
   "source": [
    "if True:\n",
    "    print('This if statement is True.')"
   ]
  },
  {
   "cell_type": "markdown",
   "metadata": {},
   "source": [
    "### the `if`-`else` statement\n",
    "\n",
    "---\n",
    "\n",
    "```python\n",
    "if conditional:\n",
    "    # python code\n",
    "else another_conditional:\n",
    "    # python code when another_condition evaluates to True AND evaluates to False\n",
    "    # again, indented for context\n",
    "```"
   ]
  },
  {
   "cell_type": "markdown",
   "metadata": {},
   "source": [
    "__Note:__ You cannot have an __`else`__ statement without an __`if`__ statement."
   ]
  },
  {
   "cell_type": "markdown",
   "metadata": {},
   "source": [
    "### More Choices: the `elif` statement\n",
    "\n",
    "---\n",
    "\n",
    "```python\n",
    "if conditional:\n",
    "    # python code\n",
    "elif second:\n",
    "    # python code\n",
    "elif third:\n",
    "    # python code\n",
    "# and so on\n",
    "```"
   ]
  },
  {
   "cell_type": "markdown",
   "metadata": {},
   "source": [
    "__Note:__ Notice that there is no __`else`__ statement above. It is not required, but the __`else`__ statement is available to be used if all the above conditionals evaluate to be False."
   ]
  },
  {
   "cell_type": "code",
   "execution_count": null,
   "metadata": {
    "collapsed": true
   },
   "outputs": [],
   "source": [
    "# What's the output?\n",
    "a = 5\n",
    "if a > 10:\n",
    "    print('Door number 1.')\n",
    "elif a == 2:\n",
    "    print('Door number 2.')\n",
    "elif not True:\n",
    "    print('Door number 3.')"
   ]
  },
  {
   "cell_type": "code",
   "execution_count": null,
   "metadata": {
    "collapsed": false
   },
   "outputs": [],
   "source": [
    "if (1 != 2) or False:\n",
    "    print('Combined logic is fun!')"
   ]
  },
  {
   "cell_type": "markdown",
   "metadata": {},
   "source": [
    "# Iterative Programming / Loops"
   ]
  },
  {
   "cell_type": "markdown",
   "metadata": {},
   "source": [
    "### the `for` loop\n",
    "\n",
    "---\n",
    "\n",
    "```python\n",
    "for item in iterable:\n",
    "    # Python code\n",
    "```\n",
    "\n",
    "The `for` loop processes until the last element of the iterable has been used."
   ]
  },
  {
   "cell_type": "code",
   "execution_count": null,
   "metadata": {
    "collapsed": false
   },
   "outputs": [],
   "source": [
    "total = 0\n",
    "\n",
    "for number in range(5):\n",
    "    # number = 0, 1, 2, 3, 4\n",
    "    total = total + 1\n",
    "\n",
    "print(total)"
   ]
  },
  {
   "cell_type": "code",
   "execution_count": null,
   "metadata": {
    "collapsed": false
   },
   "outputs": [],
   "source": [
    "students = ['Bob', 'Sue', 'Joe', 'Betty']\n",
    "\n",
    "for student in students[:2]:\n",
    "    # student is a temporary variable pointing to the current item\n",
    "    print(student)"
   ]
  },
  {
   "cell_type": "markdown",
   "metadata": {},
   "source": [
    "### Specifying a change of direction\n",
    "\n",
    "---\n",
    "\n",
    "Use the keywords __`continue`__, __`break`__, or __`pass`__ to change the behavior of conditionals and loops."
   ]
  },
  {
   "cell_type": "code",
   "execution_count": null,
   "metadata": {
    "collapsed": false
   },
   "outputs": [],
   "source": [
    "total = 0\n",
    "\n",
    "for number in range(10):\n",
    "    if number == 5:\n",
    "        break\n",
    "    total = total + 1\n",
    "\n",
    "print(total)"
   ]
  },
  {
   "cell_type": "markdown",
   "metadata": {},
   "source": [
    "### the `while` loop\n",
    "\n",
    "---\n",
    "\n",
    "```python\n",
    "while condition:\n",
    "    # Python code\n",
    "```\n",
    "\n",
    "The `while` loop continues to process indefinitely until `condition` evaluates to False."
   ]
  },
  {
   "cell_type": "code",
   "execution_count": null,
   "metadata": {
    "collapsed": false
   },
   "outputs": [],
   "source": [
    "i = 50\n",
    "\n",
    "while i >= 7:\n",
    "    print(i)\n",
    "    break"
   ]
  },
  {
   "cell_type": "markdown",
   "metadata": {},
   "source": [
    "# Warning!\n",
    "\n",
    "Think about your code before you run it. Without close inspection, you can create an infinite loop in your program."
   ]
  },
  {
   "cell_type": "markdown",
   "metadata": {},
   "source": [
    "### Nested Loops\n",
    "\n",
    "As your programs become more and more complex, you will need to iterate over multiple items at once, such as subitems of an iterable's item. We can do this with nested loops.\n",
    "\n",
    "One example of this is 2D data (or a matrix). We can loop over the matrix by the columns then rows, or vice versa."
   ]
  },
  {
   "cell_type": "code",
   "execution_count": null,
   "metadata": {
    "collapsed": false
   },
   "outputs": [],
   "source": [
    "import numpy as np\n",
    "\n",
    "x = np.array(range(20))\n",
    "x = x.reshape(5,4)\n",
    "print('x:')\n",
    "print(x)\n",
    "print('')\n",
    "\n",
    "for i in x: # rows\n",
    "    print(i)\n",
    "    for j in i: # columns\n",
    "        print(j)\n",
    "    print('')"
   ]
  },
  {
   "cell_type": "markdown",
   "metadata": {},
   "source": [
    "# NumPy"
   ]
  },
  {
   "cell_type": "code",
   "execution_count": null,
   "metadata": {
    "collapsed": false
   },
   "outputs": [],
   "source": [
    "import numpy as np\n",
    "\n",
    "li = [1,2,3,4,5]\n",
    "arr = np.array([1,2,3,4,5])\n",
    "print(arr)\n",
    "print(type(arr))\n",
    "print(type(li))"
   ]
  },
  {
   "cell_type": "markdown",
   "metadata": {},
   "source": [
    "* Basic array construct is a `ndarray` for `n`-dimensional arrays, but we can have 1-D arrays too.\n",
    "\n",
    "    (__Note:__ You usually don't create an `ndarray` directly, but through the `array` method.)\n",
    "    \n",
    "* Behave like lists when they are 1-D.\n",
    "* Biggest difference: all elements are of the same data type! This allows for much faster computation."
   ]
  },
  {
   "cell_type": "code",
   "execution_count": null,
   "metadata": {
    "collapsed": false
   },
   "outputs": [],
   "source": [
    "print(li[-1])\n",
    "print(arr[-1])\n",
    "\n",
    "# let's try to change these\n",
    "li[3] = 'a string'\n",
    "arr[3] = -1\n",
    "print(li)\n",
    "print(arr)\n",
    "\n",
    "print(arr.dtype) # type for elements of array\n",
    "arr = np.array([1.5, 2.5, 3.5, 4.5, 5.5, -6.5], dtype=np.uint8)\n",
    "print(arr)\n",
    "print(np.uint8(1.5))"
   ]
  },
  {
   "cell_type": "code",
   "execution_count": null,
   "metadata": {
    "collapsed": true
   },
   "outputs": [],
   "source": [
    "arr = np.ones((3,2))\n",
    "#print(arr)\n",
    "arr = np.zeros((6,2))\n",
    "#print(arr)\n",
    "arr = np.empty((2,5,2), dtype=np.float64)\n",
    "#print(arr)"
   ]
  },
  {
   "cell_type": "code",
   "execution_count": null,
   "metadata": {
    "collapsed": true
   },
   "outputs": [],
   "source": [
    "arr = np.linspace(-5, 5, 11, dtype=np.int64) # start, stop, num\n",
    "#print(arr)\n",
    "\n",
    "arr = np.logspace(0, 10, num=10, base=10., dtype=np.int64) # base ** start, base ** stop\n",
    "#print(arr)\n",
    "\n",
    "arr = np.arange(-5, 500, 3, float) # start, stop, increment\n",
    "#print(arr)"
   ]
  },
  {
   "cell_type": "markdown",
   "metadata": {},
   "source": [
    "### Multidimensional Arrays"
   ]
  },
  {
   "cell_type": "code",
   "execution_count": null,
   "metadata": {
    "collapsed": false
   },
   "outputs": [],
   "source": [
    "arr = np.array([[0.2, 5.3],[7.4, 8.2]])\n",
    "print(arr)\n",
    "print(arr[:-1])"
   ]
  },
  {
   "cell_type": "markdown",
   "metadata": {},
   "source": [
    "### Array Operations"
   ]
  },
  {
   "cell_type": "code",
   "execution_count": null,
   "metadata": {
    "collapsed": false
   },
   "outputs": [],
   "source": [
    "arr = np.array([[0.2, 5.3],[7.4, 8.2]])\n",
    "b = 3*arr -1\n",
    "print(b)"
   ]
  },
  {
   "cell_type": "code",
   "execution_count": null,
   "metadata": {
    "collapsed": false
   },
   "outputs": [],
   "source": [
    "print(arr.mean())\n",
    "print(arr.std())"
   ]
  },
  {
   "cell_type": "markdown",
   "metadata": {},
   "source": [
    "### Reference Links\n",
    "\n",
    "* [NumPy Reference](http://docs.scipy.org/doc/numpy/reference/)\n",
    "* [Tentative NumPy Tutorial](http://scipy.github.io/old-wiki/pages/Tentative_NumPy_Tutorial.html)\n",
    "* [for MATLAB users](http://mathesaurus.sourceforge.net/matlab-numpy.html)\n",
    "* [for R users](http://mathesaurus.sourceforge.net/r-numpy.html)\n",
    "* [NumPy for Biologists](http://people.duke.edu/~ccc14/pcfb/numerics.html)\n",
    "* [SciPy 2012 Video](http://www.youtube.com/watch?v=3Fp1zn5ao2M)"
   ]
  },
  {
   "cell_type": "markdown",
   "metadata": {},
   "source": [
    "# Matplotlib"
   ]
  },
  {
   "cell_type": "code",
   "execution_count": null,
   "metadata": {
    "collapsed": false
   },
   "outputs": [],
   "source": [
    "%matplotlib inline\n",
    "\n",
    "import matplotlib.pyplot as plt\n",
    "\n",
    "x = [0,1,2,3,4,5]\n",
    "y = [1,2,3,4,5,6]\n",
    "plt.plot(x, y)"
   ]
  },
  {
   "cell_type": "code",
   "execution_count": null,
   "metadata": {
    "collapsed": false
   },
   "outputs": [],
   "source": [
    "# plot with legend\n",
    "plt.plot(x, y, label='a line')\n",
    "plt.legend(loc=0)"
   ]
  },
  {
   "cell_type": "code",
   "execution_count": null,
   "metadata": {
    "collapsed": false
   },
   "outputs": [],
   "source": [
    "import numpy as np\n",
    "\n",
    "x = np.linspace(-np.pi, np.pi, 256, endpoint=True)\n",
    "cos, sin = np.cos(x), np.sin(x)\n",
    "\n",
    "plt.plot(x, cos)\n",
    "plt.plot(x, sin)"
   ]
  },
  {
   "cell_type": "markdown",
   "metadata": {},
   "source": [
    "### Multiple Figures - One Plot"
   ]
  },
  {
   "cell_type": "code",
   "execution_count": null,
   "metadata": {
    "collapsed": false
   },
   "outputs": [],
   "source": [
    "plt.figure(1)\n",
    "plt.subplot(211)\n",
    "plt.plot(x, cos)\n",
    "\n",
    "plt.subplot(212)\n",
    "plt.plot(x, sin)"
   ]
  },
  {
   "cell_type": "markdown",
   "metadata": {},
   "source": [
    "### References\n",
    "\n",
    "* [Matplotlib tutorial](http://www.labri.fr/perso/nrougier/teaching/matplotlib/)\n",
    "* [gallery](http://matplotlib.org/gallery.html)\n",
    "* [examples](http://matplotlib.org/examples/index.html)"
   ]
  }
 ],
 "metadata": {
  "kernelspec": {
   "display_name": "Python 2",
   "language": "python",
   "name": "python2"
  },
  "language_info": {
   "codemirror_mode": {
    "name": "ipython",
    "version": 2
   },
   "file_extension": ".py",
   "mimetype": "text/x-python",
   "name": "python",
   "nbconvert_exporter": "python",
   "pygments_lexer": "ipython2",
   "version": "2.7.13"
  }
 },
 "nbformat": 4,
 "nbformat_minor": 2
}
